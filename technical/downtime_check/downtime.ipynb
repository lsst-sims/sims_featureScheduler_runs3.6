{
 "cells": [
  {
   "cell_type": "code",
   "execution_count": 1,
   "id": "867e7d0f-1110-47b3-ae5e-7483d6897e40",
   "metadata": {},
   "outputs": [],
   "source": [
    "import numpy as np\n",
    "from rubin_scheduler.site_models import UnscheduledDowntimeMoreY1Data\n",
    "from the35down import new_downtimes\n",
    "from rubin_scheduler.utils import survey_start_mjd\n",
    "from astropy.time import Time\n",
    "import matplotlib.pylab as plt\n",
    "%matplotlib inline"
   ]
  },
  {
   "cell_type": "code",
   "execution_count": 2,
   "id": "669d42e9-3b75-4146-8742-d871f9a214a9",
   "metadata": {},
   "outputs": [],
   "source": [
    "mjd = survey_start_mjd()\n",
    "mjd_start_time = Time(mjd, format=\"mjd\")\n",
    "main_dt = UnscheduledDowntimeMoreY1Data(mjd_start_time, seed=43)\n",
    "main_dt.make_data()\n"
   ]
  },
  {
   "cell_type": "code",
   "execution_count": 3,
   "id": "31451728-0242-4a35-9a19-ceebc9d3beeb",
   "metadata": {},
   "outputs": [
    {
     "data": {
      "text/plain": [
       "array([(<Time object: scale='tai' format='isot' value=2025-01-18T15:50:24.000>, <Time object: scale='tai' format='isot' value=2025-01-21T15:50:24.000>, 'intermediate event'),\n",
       "       (<Time object: scale='utc' format='mjd' value=60796.9586597546>, <Time object: scale='utc' format='mjd' value=60797.43041402195>, 'Year1 Eng'),\n",
       "       (<Time object: scale='utc' format='mjd' value=60800.071222964>, <Time object: scale='utc' format='mjd' value=60800.11288963066>, 'Year1 Eng'),\n",
       "       (<Time object: scale='utc' format='mjd' value=60801.2487994494>, <Time object: scale='utc' format='mjd' value=60801.41829171278>, 'Year1 Eng'),\n",
       "       (<Time object: scale='utc' format='mjd' value=60803.02129284101>, <Time object: scale='utc' format='mjd' value=60803.34281347629>, 'Year1 Eng'),\n",
       "       (<Time object: scale='utc' format='mjd' value=60804.133511421904>, <Time object: scale='utc' format='mjd' value=60804.4240757458>, 'Year1 Eng'),\n",
       "       (<Time object: scale='utc' format='mjd' value=60807.21412386236>, <Time object: scale='utc' format='mjd' value=60807.25579052902>, 'Year1 Eng'),\n",
       "       (<Time object: scale='utc' format='mjd' value=60809.952746020164>, <Time object: scale='utc' format='mjd' value=60810.435394283384>, 'Year1 Eng'),\n",
       "       (<Time object: scale='utc' format='mjd' value=60812.01941682362>, <Time object: scale='utc' format='mjd' value=60812.27896568509>, 'Year1 Eng'),\n",
       "       (<Time object: scale='utc' format='mjd' value=60814.12688919827>, <Time object: scale='utc' format='mjd' value=60814.296427790214>, 'Year1 Eng'),\n",
       "       (<Time object: scale='utc' format='mjd' value=60815.06525140668>, <Time object: scale='utc' format='mjd' value=60815.325179791645>, 'Year1 Eng'),\n",
       "       (<Time object: scale='utc' format='mjd' value=60816.07169399759>, <Time object: scale='utc' format='mjd' value=60816.26694297312>, 'Year1 Eng'),\n",
       "       (<Time object: scale='utc' format='mjd' value=60816.98134784112>, <Time object: scale='utc' format='mjd' value=60817.053070111826>, 'Year1 Eng'),\n",
       "       (<Time object: scale='utc' format='mjd' value=60819.27602442145>, <Time object: scale='utc' format='mjd' value=60819.38153487096>, 'Year1 Eng'),\n",
       "       (<Time object: scale='utc' format='mjd' value=60819.94985316601>, <Time object: scale='utc' format='mjd' value=60820.439062795136>, 'Year1 Eng'),\n",
       "       (<Time object: scale='utc' format='mjd' value=60821.13316232128>, <Time object: scale='utc' format='mjd' value=60821.323147820745>, 'Year1 Eng'),\n",
       "       (<Time object: scale='utc' format='mjd' value=60821.94945611246>, <Time object: scale='utc' format='mjd' value=60822.439761532005>, 'Year1 Eng'),\n",
       "       (<Time object: scale='utc' format='mjd' value=60824.27746328065>, <Time object: scale='utc' format='mjd' value=60824.35904036463>, 'Year1 Eng'),\n",
       "       (<Time object: scale='utc' format='mjd' value=60826.94957795162>, <Time object: scale='utc' format='mjd' value=60827.375039897>, 'Year1 Eng'),\n",
       "       (<Time object: scale='utc' format='mjd' value=60828.19451370452>, <Time object: scale='utc' format='mjd' value=60828.25360170171>, 'Year1 Eng'),\n",
       "       (<Time object: scale='utc' format='mjd' value=60832.28095328095>, <Time object: scale='utc' format='mjd' value=60832.41383235347>, 'Year1 Eng'),\n",
       "       (<Time object: scale='utc' format='mjd' value=60839.08767996307>, <Time object: scale='utc' format='mjd' value=60839.29768085675>, 'Year1 Eng'),\n",
       "       (<Time object: scale='utc' format='mjd' value=60847.051552856195>, <Time object: scale='utc' format='mjd' value=60847.09321952286>, 'Year1 Eng'),\n",
       "       (<Time object: scale='utc' format='mjd' value=60849.12697627165>, <Time object: scale='utc' format='mjd' value=60849.445360957696>, 'Year1 Eng'),\n",
       "       (<Time object: scale='utc' format='mjd' value=60851.29253525481>, <Time object: scale='utc' format='mjd' value=60851.334201921476>, 'Year1 Eng'),\n",
       "       (<Time object: scale='utc' format='mjd' value=60852.39133700055>, <Time object: scale='utc' format='mjd' value=60852.43300366721>, 'Year1 Eng'),\n",
       "       (<Time object: scale='utc' format='mjd' value=60853.04218737939>, <Time object: scale='utc' format='mjd' value=60853.08385404605>, 'Year1 Eng'),\n",
       "       (<Time object: scale='utc' format='mjd' value=60854.38045710863>, <Time object: scale='utc' format='mjd' value=60854.42212377529>, 'Year1 Eng'),\n",
       "       (<Time object: scale='tai' format='isot' value=2025-06-29T15:50:24.000>, <Time object: scale='tai' format='isot' value=2025-07-02T15:50:24.000>, 'intermediate event'),\n",
       "       (<Time object: scale='utc' format='mjd' value=60856.0320457106>, <Time object: scale='utc' format='mjd' value=60856.34958348462>, 'Year1 Eng'),\n",
       "       (<Time object: scale='utc' format='mjd' value=60876.95723664574>, <Time object: scale='utc' format='mjd' value=60877.44462093711>, 'Year1 Eng'),\n",
       "       (<Time object: scale='utc' format='mjd' value=60877.957578056026>, <Time object: scale='utc' format='mjd' value=60878.44433559757>, 'Year1 Eng'),\n",
       "       (<Time object: scale='utc' format='mjd' value=60879.96128492635>, <Time object: scale='utc' format='mjd' value=60880.44060266428>, 'Year1 Eng'),\n",
       "       (<Time object: scale='utc' format='mjd' value=60881.95896262396>, <Time object: scale='utc' format='mjd' value=60882.44303934788>, 'Year1 Eng'),\n",
       "       (<Time object: scale='utc' format='mjd' value=60886.024670708095>, <Time object: scale='utc' format='mjd' value=60886.06633737476>, 'Year1 Eng'),\n",
       "       (<Time object: scale='utc' format='mjd' value=60888.961422651075>, <Time object: scale='utc' format='mjd' value=60889.44019873394>, 'Year1 Eng'),\n",
       "       (<Time object: scale='utc' format='mjd' value=60900.10647886955>, <Time object: scale='utc' format='mjd' value=60900.148145536215>, 'Year1 Eng'),\n",
       "       (<Time object: scale='utc' format='mjd' value=60901.97171298243>, <Time object: scale='utc' format='mjd' value=60902.42563051194>, 'Year1 Eng'),\n",
       "       (<Time object: scale='utc' format='mjd' value=60904.10396386301>, <Time object: scale='utc' format='mjd' value=60904.145630529674>, 'Year1 Eng'),\n",
       "       (<Time object: scale='utc' format='mjd' value=60904.97488524388>, <Time object: scale='utc' format='mjd' value=60905.3315971742>, 'Year1 Eng'),\n",
       "       (<Time object: scale='tai' format='isot' value=2025-08-19T15:50:24.000>, <Time object: scale='tai' format='isot' value=2025-08-22T15:50:24.000>, 'intermediate event'),\n",
       "       (<Time object: scale='utc' format='mjd' value=60911.99881613441>, <Time object: scale='utc' format='mjd' value=60912.20231375608>, 'Year1 Eng'),\n",
       "       (<Time object: scale='utc' format='mjd' value=60912.96982310666>, <Time object: scale='utc' format='mjd' value=60913.42554508103>, 'Year1 Eng'),\n",
       "       (<Time object: scale='utc' format='mjd' value=60914.07719940752>, <Time object: scale='utc' format='mjd' value=60914.34749665772>, 'Year1 Eng'),\n",
       "       (<Time object: scale='utc' format='mjd' value=60919.9722738564>, <Time object: scale='utc' format='mjd' value=60920.4201304242>, 'Year1 Eng'),\n",
       "       (<Time object: scale='utc' format='mjd' value=60925.26260594568>, <Time object: scale='utc' format='mjd' value=60925.304272612346>, 'Year1 Eng'),\n",
       "       (<Time object: scale='utc' format='mjd' value=60931.3626142577>, <Time object: scale='utc' format='mjd' value=60931.40428092436>, 'Year1 Eng'),\n",
       "       (<Time object: scale='utc' format='mjd' value=60933.149942510085>, <Time object: scale='utc' format='mjd' value=60933.19160917675>, 'Year1 Eng'),\n",
       "       (<Time object: scale='utc' format='mjd' value=60934.01750124601>, <Time object: scale='utc' format='mjd' value=60934.17275461856>, 'Year1 Eng'),\n",
       "       (<Time object: scale='utc' format='mjd' value=60937.97891000798>, <Time object: scale='utc' format='mjd' value=60938.40477200365>, 'Year1 Eng'),\n",
       "       (<Time object: scale='utc' format='mjd' value=60942.02776158915>, <Time object: scale='utc' format='mjd' value=60942.396561217465>, 'Year1 Eng'),\n",
       "       (<Time object: scale='utc' format='mjd' value=60943.06779998919>, <Time object: scale='utc' format='mjd' value=60943.174349605164>, 'Year1 Eng'),\n",
       "       (<Time object: scale='utc' format='mjd' value=60943.981356079224>, <Time object: scale='utc' format='mjd' value=60944.39941513492>, 'Year1 Eng'),\n",
       "       (<Time object: scale='utc' format='mjd' value=60946.06264207592>, <Time object: scale='utc' format='mjd' value=60946.3276836718>, 'Year1 Eng'),\n",
       "       (<Time object: scale='utc' format='mjd' value=60951.98489793233>, <Time object: scale='utc' format='mjd' value=60952.39194251767>, 'Year1 Eng'),\n",
       "       (<Time object: scale='utc' format='mjd' value=60958.134030042536>, <Time object: scale='utc' format='mjd' value=60958.1756967092>, 'Year1 Eng'),\n",
       "       (<Time object: scale='utc' format='mjd' value=60959.16756067553>, <Time object: scale='utc' format='mjd' value=60959.260695479614>, 'Year1 Eng'),\n",
       "       (<Time object: scale='utc' format='mjd' value=60963.217658481706>, <Time object: scale='utc' format='mjd' value=60963.25932514837>, 'Year1 Eng'),\n",
       "       (<Time object: scale='utc' format='mjd' value=60963.99087124225>, <Time object: scale='utc' format='mjd' value=60964.381869480945>, 'Year1 Eng'),\n",
       "       (<Time object: scale='utc' format='mjd' value=60968.31275970637>, <Time object: scale='utc' format='mjd' value=60968.35442637304>, 'Year1 Eng'),\n",
       "       (<Time object: scale='utc' format='mjd' value=60971.05011610092>, <Time object: scale='utc' format='mjd' value=60971.244393379406>, 'Year1 Eng'),\n",
       "       (<Time object: scale='utc' format='mjd' value=60973.185975298875>, <Time object: scale='utc' format='mjd' value=60973.22764196554>, 'Year1 Eng'),\n",
       "       (<Time object: scale='utc' format='mjd' value=60978.29149623784>, <Time object: scale='utc' format='mjd' value=60978.333162904506>, 'Year1 Eng'),\n",
       "       (<Time object: scale='utc' format='mjd' value=60978.9997508144>, <Time object: scale='utc' format='mjd' value=60979.37031667307>, 'Year1 Eng'),\n",
       "       (<Time object: scale='utc' format='mjd' value=60980.00039320486>, <Time object: scale='utc' format='mjd' value=60980.36962436419>, 'Year1 Eng'),\n",
       "       (<Time object: scale='utc' format='mjd' value=60987.01486557639>, <Time object: scale='utc' format='mjd' value=60987.36504576813>, 'Year1 Eng'),\n",
       "       (<Time object: scale='utc' format='mjd' value=60996.11757305738>, <Time object: scale='utc' format='mjd' value=60996.159239724046>, 'Year1 Eng'),\n",
       "       (<Time object: scale='utc' format='mjd' value=60997.18151182194>, <Time object: scale='utc' format='mjd' value=60997.2231784886>, 'Year1 Eng'),\n",
       "       (<Time object: scale='utc' format='mjd' value=61000.23958377575>, <Time object: scale='utc' format='mjd' value=61000.281250442415>, 'Year1 Eng'),\n",
       "       (<Time object: scale='utc' format='mjd' value=61001.25647346907>, <Time object: scale='utc' format='mjd' value=61001.33577910161>, 'Year1 Eng'),\n",
       "       (<Time object: scale='utc' format='mjd' value=61010.08532308967>, <Time object: scale='utc' format='mjd' value=61010.26264375801>, 'Year1 Eng'),\n",
       "       (<Time object: scale='utc' format='mjd' value=61011.02144663688>, <Time object: scale='utc' format='mjd' value=61011.35672561079>, 'Year1 Eng'),\n",
       "       (<Time object: scale='utc' format='mjd' value=61017.02507552598>, <Time object: scale='utc' format='mjd' value=61017.356559827924>, 'Year1 Eng'),\n",
       "       (<Time object: scale='utc' format='mjd' value=61020.03365951648>, <Time object: scale='utc' format='mjd' value=61020.07532618314>, 'Year1 Eng'),\n",
       "       (<Time object: scale='utc' format='mjd' value=61027.29139384987>, <Time object: scale='utc' format='mjd' value=61027.33306051653>, 'Year1 Eng'),\n",
       "       (<Time object: scale='utc' format='mjd' value=61028.09352702484>, <Time object: scale='utc' format='mjd' value=61028.34976664398>, 'Year1 Eng'),\n",
       "       (<Time object: scale='utc' format='mjd' value=61030.23082349507>, <Time object: scale='utc' format='mjd' value=61030.27249016173>, 'Year1 Eng'),\n",
       "       (<Time object: scale='tai' format='isot' value=2025-12-23T15:50:24.000>, <Time object: scale='tai' format='isot' value=2026-01-06T15:50:24.000>, 'catastrophic event'),\n",
       "       (<Time object: scale='utc' format='mjd' value=61040.265524350776>, <Time object: scale='utc' format='mjd' value=61040.30719101744>, 'Year1 Eng'),\n",
       "       (<Time object: scale='utc' format='mjd' value=61041.04116033379>, <Time object: scale='utc' format='mjd' value=61041.33826461401>, 'Year1 Eng'),\n",
       "       (<Time object: scale='utc' format='mjd' value=61042.063924460424>, <Time object: scale='utc' format='mjd' value=61042.324550604135>, 'Year1 Eng'),\n",
       "       (<Time object: scale='utc' format='mjd' value=61048.123883031716>, <Time object: scale='utc' format='mjd' value=61048.16554969838>, 'Year1 Eng'),\n",
       "       (<Time object: scale='utc' format='mjd' value=61055.28405631403>, <Time object: scale='utc' format='mjd' value=61055.32572298069>, 'Year1 Eng'),\n",
       "       (<Time object: scale='utc' format='mjd' value=61061.200481574495>, <Time object: scale='utc' format='mjd' value=61061.37353225577>, 'Year1 Eng'),\n",
       "       (<Time object: scale='utc' format='mjd' value=61068.03452145196>, <Time object: scale='utc' format='mjd' value=61068.25200886833>, 'Year1 Eng'),\n",
       "       (<Time object: scale='utc' format='mjd' value=61070.02797725052>, <Time object: scale='utc' format='mjd' value=61070.3836370809>, 'Year1 Eng'),\n",
       "       (<Time object: scale='utc' format='mjd' value=61077.02409813972>, <Time object: scale='utc' format='mjd' value=61077.388646049425>, 'Year1 Eng'),\n",
       "       (<Time object: scale='utc' format='mjd' value=61085.20680683371>, <Time object: scale='utc' format='mjd' value=61085.31649092511>, 'Year1 Eng'),\n",
       "       (<Time object: scale='tai' format='isot' value=2026-02-21T15:50:24.000>, <Time object: scale='tai' format='isot' value=2026-02-24T15:50:24.000>, 'intermediate event'),\n",
       "       (<Time object: scale='utc' format='mjd' value=61094.03888080346>, <Time object: scale='utc' format='mjd' value=61094.13819945245>, 'Year1 Eng'),\n",
       "       (<Time object: scale='utc' format='mjd' value=61095.3118385178>, <Time object: scale='utc' format='mjd' value=61095.35350518447>, 'Year1 Eng'),\n",
       "       (<Time object: scale='tai' format='isot' value=2026-02-28T15:50:24.000>, <Time object: scale='tai' format='isot' value=2026-03-01T15:50:24.000>, 'minor event'),\n",
       "       (<Time object: scale='utc' format='mjd' value=61100.16526603742>, <Time object: scale='utc' format='mjd' value=61100.20876735585>, 'Year1 Eng'),\n",
       "       (<Time object: scale='utc' format='mjd' value=61105.002972233575>, <Time object: scale='utc' format='mjd' value=61105.40602485277>, 'Year1 Eng'),\n",
       "       (<Time object: scale='utc' format='mjd' value=61113.0259338211>, <Time object: scale='utc' format='mjd' value=61113.33031988623>, 'Year1 Eng'),\n",
       "       (<Time object: scale='utc' format='mjd' value=61116.0067295297>, <Time object: scale='utc' format='mjd' value=61116.292113027324>, 'Year1 Eng'),\n",
       "       (<Time object: scale='utc' format='mjd' value=61117.04786061702>, <Time object: scale='utc' format='mjd' value=61117.24981356115>, 'Year1 Eng'),\n",
       "       (<Time object: scale='utc' format='mjd' value=61123.994598408804>, <Time object: scale='utc' format='mjd' value=61124.04624709241>, 'Year1 Eng'),\n",
       "       (<Time object: scale='utc' format='mjd' value=61152.27033332505>, <Time object: scale='utc' format='mjd' value=61152.31199999171>, 'Year1 Eng'),\n",
       "       (<Time object: scale='tai' format='isot' value=2026-05-06T15:50:24.000>, <Time object: scale='tai' format='isot' value=2026-05-07T15:50:24.000>, 'minor event'),\n",
       "       (<Time object: scale='tai' format='isot' value=2026-06-10T15:50:24.000>, <Time object: scale='tai' format='isot' value=2026-06-11T15:50:24.000>, 'minor event'),\n",
       "       (<Time object: scale='tai' format='isot' value=2026-10-13T15:50:24.000>, <Time object: scale='tai' format='isot' value=2026-10-14T15:50:24.000>, 'minor event'),\n",
       "       (<Time object: scale='tai' format='isot' value=2027-01-03T15:50:24.000>, <Time object: scale='tai' format='isot' value=2027-01-04T15:50:24.000>, 'minor event'),\n",
       "       (<Time object: scale='tai' format='isot' value=2027-04-01T15:50:24.000>, <Time object: scale='tai' format='isot' value=2027-04-02T15:50:24.000>, 'minor event'),\n",
       "       (<Time object: scale='tai' format='isot' value=2027-05-03T15:50:24.000>, <Time object: scale='tai' format='isot' value=2027-05-04T15:50:24.000>, 'minor event'),\n",
       "       (<Time object: scale='tai' format='isot' value=2027-06-08T15:50:24.000>, <Time object: scale='tai' format='isot' value=2027-06-09T15:50:24.000>, 'minor event'),\n",
       "       (<Time object: scale='tai' format='isot' value=2027-08-07T15:50:24.000>, <Time object: scale='tai' format='isot' value=2027-08-08T15:50:24.000>, 'minor event'),\n",
       "       (<Time object: scale='tai' format='isot' value=2028-01-28T15:50:24.000>, <Time object: scale='tai' format='isot' value=2028-01-29T15:50:24.000>, 'minor event'),\n",
       "       (<Time object: scale='tai' format='isot' value=2028-02-01T15:50:24.000>, <Time object: scale='tai' format='isot' value=2028-02-02T15:50:24.000>, 'minor event'),\n",
       "       (<Time object: scale='tai' format='isot' value=2028-04-01T15:50:24.000>, <Time object: scale='tai' format='isot' value=2028-04-02T15:50:24.000>, 'minor event'),\n",
       "       (<Time object: scale='tai' format='isot' value=2028-04-14T15:50:24.000>, <Time object: scale='tai' format='isot' value=2028-04-15T15:50:24.000>, 'minor event'),\n",
       "       (<Time object: scale='tai' format='isot' value=2028-07-04T15:50:24.000>, <Time object: scale='tai' format='isot' value=2028-07-07T15:50:24.000>, 'intermediate event'),\n",
       "       (<Time object: scale='tai' format='isot' value=2028-07-26T15:50:24.000>, <Time object: scale='tai' format='isot' value=2028-07-29T15:50:24.000>, 'intermediate event'),\n",
       "       (<Time object: scale='tai' format='isot' value=2029-01-17T15:50:24.000>, <Time object: scale='tai' format='isot' value=2029-01-18T15:50:24.000>, 'minor event'),\n",
       "       (<Time object: scale='tai' format='isot' value=2029-02-12T15:50:24.000>, <Time object: scale='tai' format='isot' value=2029-02-13T15:50:24.000>, 'minor event'),\n",
       "       (<Time object: scale='tai' format='isot' value=2029-02-27T15:50:24.000>, <Time object: scale='tai' format='isot' value=2029-03-02T15:50:24.000>, 'intermediate event'),\n",
       "       (<Time object: scale='tai' format='isot' value=2029-05-13T15:50:24.000>, <Time object: scale='tai' format='isot' value=2029-05-16T15:50:24.000>, 'intermediate event'),\n",
       "       (<Time object: scale='tai' format='isot' value=2029-06-30T15:50:24.000>, <Time object: scale='tai' format='isot' value=2029-07-03T15:50:24.000>, 'intermediate event'),\n",
       "       (<Time object: scale='tai' format='isot' value=2029-09-01T15:50:24.000>, <Time object: scale='tai' format='isot' value=2029-09-04T15:50:24.000>, 'intermediate event'),\n",
       "       (<Time object: scale='tai' format='isot' value=2029-12-31T15:50:24.000>, <Time object: scale='tai' format='isot' value=2030-01-01T15:50:24.000>, 'minor event'),\n",
       "       (<Time object: scale='tai' format='isot' value=2030-02-01T15:50:24.000>, <Time object: scale='tai' format='isot' value=2030-02-02T15:50:24.000>, 'minor event'),\n",
       "       (<Time object: scale='tai' format='isot' value=2030-03-01T15:50:24.000>, <Time object: scale='tai' format='isot' value=2030-03-02T15:50:24.000>, 'minor event'),\n",
       "       (<Time object: scale='tai' format='isot' value=2030-05-10T15:50:24.000>, <Time object: scale='tai' format='isot' value=2030-05-11T15:50:24.000>, 'minor event'),\n",
       "       (<Time object: scale='tai' format='isot' value=2030-06-17T15:50:24.000>, <Time object: scale='tai' format='isot' value=2030-06-18T15:50:24.000>, 'minor event'),\n",
       "       (<Time object: scale='tai' format='isot' value=2030-11-22T15:50:24.000>, <Time object: scale='tai' format='isot' value=2030-11-25T15:50:24.000>, 'intermediate event'),\n",
       "       (<Time object: scale='tai' format='isot' value=2030-12-01T15:50:24.000>, <Time object: scale='tai' format='isot' value=2030-12-02T15:50:24.000>, 'minor event'),\n",
       "       (<Time object: scale='tai' format='isot' value=2031-02-17T15:50:24.000>, <Time object: scale='tai' format='isot' value=2031-02-18T15:50:24.000>, 'minor event'),\n",
       "       (<Time object: scale='tai' format='isot' value=2031-04-20T15:50:24.000>, <Time object: scale='tai' format='isot' value=2031-04-27T15:50:24.000>, 'major event'),\n",
       "       (<Time object: scale='tai' format='isot' value=2031-08-27T15:50:24.000>, <Time object: scale='tai' format='isot' value=2031-08-30T15:50:24.000>, 'intermediate event'),\n",
       "       (<Time object: scale='tai' format='isot' value=2031-09-25T15:50:24.000>, <Time object: scale='tai' format='isot' value=2031-09-26T15:50:24.000>, 'minor event'),\n",
       "       (<Time object: scale='tai' format='isot' value=2031-11-02T15:50:24.000>, <Time object: scale='tai' format='isot' value=2031-11-03T15:50:24.000>, 'minor event'),\n",
       "       (<Time object: scale='tai' format='isot' value=2031-11-14T15:50:24.000>, <Time object: scale='tai' format='isot' value=2031-11-15T15:50:24.000>, 'minor event'),\n",
       "       (<Time object: scale='tai' format='isot' value=2031-12-11T15:50:24.000>, <Time object: scale='tai' format='isot' value=2031-12-12T15:50:24.000>, 'minor event'),\n",
       "       (<Time object: scale='tai' format='isot' value=2032-03-21T15:50:24.000>, <Time object: scale='tai' format='isot' value=2032-03-22T15:50:24.000>, 'minor event'),\n",
       "       (<Time object: scale='tai' format='isot' value=2032-04-17T15:50:24.000>, <Time object: scale='tai' format='isot' value=2032-04-18T15:50:24.000>, 'minor event'),\n",
       "       (<Time object: scale='tai' format='isot' value=2032-09-14T15:50:24.000>, <Time object: scale='tai' format='isot' value=2032-09-15T15:50:24.000>, 'minor event'),\n",
       "       (<Time object: scale='tai' format='isot' value=2032-12-09T15:50:24.000>, <Time object: scale='tai' format='isot' value=2032-12-10T15:50:24.000>, 'minor event'),\n",
       "       (<Time object: scale='tai' format='isot' value=2033-02-26T15:50:24.000>, <Time object: scale='tai' format='isot' value=2033-02-27T15:50:24.000>, 'minor event'),\n",
       "       (<Time object: scale='tai' format='isot' value=2033-03-09T15:50:24.000>, <Time object: scale='tai' format='isot' value=2033-03-12T15:50:24.000>, 'intermediate event'),\n",
       "       (<Time object: scale='tai' format='isot' value=2033-05-03T15:50:24.000>, <Time object: scale='tai' format='isot' value=2033-05-04T15:50:24.000>, 'minor event'),\n",
       "       (<Time object: scale='tai' format='isot' value=2033-06-09T15:50:24.000>, <Time object: scale='tai' format='isot' value=2033-06-10T15:50:24.000>, 'minor event'),\n",
       "       (<Time object: scale='tai' format='isot' value=2033-06-14T15:50:24.000>, <Time object: scale='tai' format='isot' value=2033-06-15T15:50:24.000>, 'minor event'),\n",
       "       (<Time object: scale='tai' format='isot' value=2033-07-02T15:50:24.000>, <Time object: scale='tai' format='isot' value=2033-07-09T15:50:24.000>, 'major event'),\n",
       "       (<Time object: scale='tai' format='isot' value=2033-10-10T15:50:24.000>, <Time object: scale='tai' format='isot' value=2033-10-13T15:50:24.000>, 'intermediate event'),\n",
       "       (<Time object: scale='tai' format='isot' value=2033-10-19T15:50:24.000>, <Time object: scale='tai' format='isot' value=2033-10-22T15:50:24.000>, 'intermediate event'),\n",
       "       (<Time object: scale='tai' format='isot' value=2033-11-21T15:50:24.000>, <Time object: scale='tai' format='isot' value=2033-11-22T15:50:24.000>, 'minor event'),\n",
       "       (<Time object: scale='tai' format='isot' value=2033-12-10T15:50:24.000>, <Time object: scale='tai' format='isot' value=2033-12-11T15:50:24.000>, 'minor event'),\n",
       "       (<Time object: scale='tai' format='isot' value=2034-01-10T15:50:24.000>, <Time object: scale='tai' format='isot' value=2034-01-11T15:50:24.000>, 'minor event'),\n",
       "       (<Time object: scale='tai' format='isot' value=2034-05-01T15:50:24.000>, <Time object: scale='tai' format='isot' value=2034-05-02T15:50:24.000>, 'minor event'),\n",
       "       (<Time object: scale='tai' format='isot' value=2034-05-27T15:50:24.000>, <Time object: scale='tai' format='isot' value=2034-05-30T15:50:24.000>, 'intermediate event'),\n",
       "       (<Time object: scale='tai' format='isot' value=2034-08-04T15:50:24.000>, <Time object: scale='tai' format='isot' value=2034-08-11T15:50:24.000>, 'major event'),\n",
       "       (<Time object: scale='tai' format='isot' value=2034-08-28T15:50:24.000>, <Time object: scale='tai' format='isot' value=2034-08-31T15:50:24.000>, 'intermediate event'),\n",
       "       (<Time object: scale='tai' format='isot' value=2034-12-15T15:50:24.000>, <Time object: scale='tai' format='isot' value=2034-12-22T15:50:24.000>, 'major event'),\n",
       "       (<Time object: scale='tai' format='isot' value=2035-01-23T15:50:24.000>, <Time object: scale='tai' format='isot' value=2035-01-24T15:50:24.000>, 'minor event'),\n",
       "       (<Time object: scale='tai' format='isot' value=2035-04-15T15:50:24.000>, <Time object: scale='tai' format='isot' value=2035-04-18T15:50:24.000>, 'intermediate event'),\n",
       "       (<Time object: scale='tai' format='isot' value=2035-05-01T15:50:24.000>, <Time object: scale='tai' format='isot' value=2035-05-02T15:50:24.000>, 'minor event'),\n",
       "       (<Time object: scale='tai' format='isot' value=2035-08-17T15:50:24.000>, <Time object: scale='tai' format='isot' value=2035-08-20T15:50:24.000>, 'intermediate event'),\n",
       "       (<Time object: scale='tai' format='isot' value=2035-08-25T15:50:24.000>, <Time object: scale='tai' format='isot' value=2035-09-01T15:50:24.000>, 'major event'),\n",
       "       (<Time object: scale='tai' format='isot' value=2036-02-15T15:50:24.000>, <Time object: scale='tai' format='isot' value=2036-02-22T15:50:24.000>, 'major event'),\n",
       "       (<Time object: scale='tai' format='isot' value=2036-07-30T15:50:24.000>, <Time object: scale='tai' format='isot' value=2036-08-02T15:50:24.000>, 'intermediate event'),\n",
       "       (<Time object: scale='tai' format='isot' value=2036-10-21T15:50:24.000>, <Time object: scale='tai' format='isot' value=2036-10-22T15:50:24.000>, 'minor event'),\n",
       "       (<Time object: scale='tai' format='isot' value=2036-11-17T15:50:24.000>, <Time object: scale='tai' format='isot' value=2036-11-18T15:50:24.000>, 'minor event'),\n",
       "       (<Time object: scale='tai' format='isot' value=2036-12-23T15:50:24.000>, <Time object: scale='tai' format='isot' value=2036-12-24T15:50:24.000>, 'minor event'),\n",
       "       (<Time object: scale='tai' format='isot' value=2037-01-20T15:50:24.000>, <Time object: scale='tai' format='isot' value=2037-01-21T15:50:24.000>, 'minor event'),\n",
       "       (<Time object: scale='tai' format='isot' value=2037-02-15T15:50:24.000>, <Time object: scale='tai' format='isot' value=2037-02-16T15:50:24.000>, 'minor event'),\n",
       "       (<Time object: scale='tai' format='isot' value=2037-03-26T15:50:24.000>, <Time object: scale='tai' format='isot' value=2037-03-29T15:50:24.000>, 'intermediate event'),\n",
       "       (<Time object: scale='tai' format='isot' value=2037-05-04T15:50:24.000>, <Time object: scale='tai' format='isot' value=2037-05-07T15:50:24.000>, 'intermediate event'),\n",
       "       (<Time object: scale='tai' format='isot' value=2037-06-05T15:50:24.000>, <Time object: scale='tai' format='isot' value=2037-06-06T15:50:24.000>, 'minor event'),\n",
       "       (<Time object: scale='tai' format='isot' value=2037-08-04T15:50:24.000>, <Time object: scale='tai' format='isot' value=2037-08-05T15:50:24.000>, 'minor event'),\n",
       "       (<Time object: scale='tai' format='isot' value=2037-08-08T15:50:24.000>, <Time object: scale='tai' format='isot' value=2037-08-11T15:50:24.000>, 'intermediate event'),\n",
       "       (<Time object: scale='tai' format='isot' value=2038-02-24T15:50:24.000>, <Time object: scale='tai' format='isot' value=2038-02-27T15:50:24.000>, 'intermediate event'),\n",
       "       (<Time object: scale='tai' format='isot' value=2038-04-09T15:50:24.000>, <Time object: scale='tai' format='isot' value=2038-04-10T15:50:24.000>, 'minor event'),\n",
       "       (<Time object: scale='tai' format='isot' value=2038-05-31T15:50:24.000>, <Time object: scale='tai' format='isot' value=2038-06-01T15:50:24.000>, 'minor event'),\n",
       "       (<Time object: scale='tai' format='isot' value=2038-06-30T15:50:24.000>, <Time object: scale='tai' format='isot' value=2038-07-01T15:50:24.000>, 'minor event'),\n",
       "       (<Time object: scale='tai' format='isot' value=2038-08-03T15:50:24.000>, <Time object: scale='tai' format='isot' value=2038-08-06T15:50:24.000>, 'intermediate event'),\n",
       "       (<Time object: scale='tai' format='isot' value=2038-10-06T15:50:24.000>, <Time object: scale='tai' format='isot' value=2038-10-07T15:50:24.000>, 'minor event'),\n",
       "       (<Time object: scale='tai' format='isot' value=2038-11-08T15:50:24.000>, <Time object: scale='tai' format='isot' value=2038-11-09T15:50:24.000>, 'minor event'),\n",
       "       (<Time object: scale='tai' format='isot' value=2038-11-24T15:50:24.000>, <Time object: scale='tai' format='isot' value=2038-12-01T15:50:24.000>, 'major event'),\n",
       "       (<Time object: scale='tai' format='isot' value=2039-01-01T15:50:24.000>, <Time object: scale='tai' format='isot' value=2039-01-02T15:50:24.000>, 'minor event'),\n",
       "       (<Time object: scale='tai' format='isot' value=2039-04-14T15:50:24.000>, <Time object: scale='tai' format='isot' value=2039-04-17T15:50:24.000>, 'intermediate event'),\n",
       "       (<Time object: scale='tai' format='isot' value=2039-09-04T15:50:24.000>, <Time object: scale='tai' format='isot' value=2039-09-07T15:50:24.000>, 'intermediate event'),\n",
       "       (<Time object: scale='tai' format='isot' value=2040-02-28T15:50:24.000>, <Time object: scale='tai' format='isot' value=2040-02-29T15:50:24.000>, 'minor event'),\n",
       "       (<Time object: scale='tai' format='isot' value=2040-04-25T15:50:24.000>, <Time object: scale='tai' format='isot' value=2040-04-28T15:50:24.000>, 'intermediate event'),\n",
       "       (<Time object: scale='tai' format='isot' value=2040-05-23T15:50:24.000>, <Time object: scale='tai' format='isot' value=2040-05-24T15:50:24.000>, 'minor event'),\n",
       "       (<Time object: scale='tai' format='isot' value=2040-06-26T15:50:24.000>, <Time object: scale='tai' format='isot' value=2040-06-27T15:50:24.000>, 'minor event'),\n",
       "       (<Time object: scale='tai' format='isot' value=2040-07-14T15:50:24.000>, <Time object: scale='tai' format='isot' value=2040-07-15T15:50:24.000>, 'minor event'),\n",
       "       (<Time object: scale='tai' format='isot' value=2040-08-02T15:50:24.000>, <Time object: scale='tai' format='isot' value=2040-08-03T15:50:24.000>, 'minor event'),\n",
       "       (<Time object: scale='tai' format='isot' value=2040-10-14T15:50:24.000>, <Time object: scale='tai' format='isot' value=2040-10-28T15:50:24.000>, 'catastrophic event'),\n",
       "       (<Time object: scale='tai' format='isot' value=2040-11-03T15:50:24.000>, <Time object: scale='tai' format='isot' value=2040-11-04T15:50:24.000>, 'minor event'),\n",
       "       (<Time object: scale='tai' format='isot' value=2041-02-09T15:50:24.000>, <Time object: scale='tai' format='isot' value=2041-02-12T15:50:24.000>, 'intermediate event'),\n",
       "       (<Time object: scale='tai' format='isot' value=2041-03-08T15:50:24.000>, <Time object: scale='tai' format='isot' value=2041-03-11T15:50:24.000>, 'intermediate event'),\n",
       "       (<Time object: scale='tai' format='isot' value=2041-05-23T15:50:24.000>, <Time object: scale='tai' format='isot' value=2041-05-24T15:50:24.000>, 'minor event'),\n",
       "       (<Time object: scale='tai' format='isot' value=2041-07-11T15:50:24.000>, <Time object: scale='tai' format='isot' value=2041-07-12T15:50:24.000>, 'minor event'),\n",
       "       (<Time object: scale='tai' format='isot' value=2041-08-13T15:50:24.000>, <Time object: scale='tai' format='isot' value=2041-08-14T15:50:24.000>, 'minor event'),\n",
       "       (<Time object: scale='tai' format='isot' value=2041-09-11T15:50:24.000>, <Time object: scale='tai' format='isot' value=2041-09-14T15:50:24.000>, 'intermediate event'),\n",
       "       (<Time object: scale='tai' format='isot' value=2041-12-17T15:50:24.000>, <Time object: scale='tai' format='isot' value=2041-12-18T15:50:24.000>, 'minor event'),\n",
       "       (<Time object: scale='tai' format='isot' value=2042-02-04T15:50:24.000>, <Time object: scale='tai' format='isot' value=2042-02-05T15:50:24.000>, 'minor event'),\n",
       "       (<Time object: scale='tai' format='isot' value=2042-08-08T15:50:24.000>, <Time object: scale='tai' format='isot' value=2042-08-09T15:50:24.000>, 'minor event'),\n",
       "       (<Time object: scale='tai' format='isot' value=2042-10-29T15:50:24.000>, <Time object: scale='tai' format='isot' value=2042-10-30T15:50:24.000>, 'minor event'),\n",
       "       (<Time object: scale='tai' format='isot' value=2042-11-13T15:50:24.000>, <Time object: scale='tai' format='isot' value=2042-11-14T15:50:24.000>, 'minor event'),\n",
       "       (<Time object: scale='tai' format='isot' value=2042-11-20T15:50:24.000>, <Time object: scale='tai' format='isot' value=2042-11-21T15:50:24.000>, 'minor event'),\n",
       "       (<Time object: scale='tai' format='isot' value=2042-12-20T15:50:24.000>, <Time object: scale='tai' format='isot' value=2042-12-21T15:50:24.000>, 'minor event'),\n",
       "       (<Time object: scale='tai' format='isot' value=2042-12-31T15:50:24.000>, <Time object: scale='tai' format='isot' value=2043-01-01T15:50:24.000>, 'minor event'),\n",
       "       (<Time object: scale='tai' format='isot' value=2043-03-25T15:50:24.000>, <Time object: scale='tai' format='isot' value=2043-03-28T15:50:24.000>, 'intermediate event'),\n",
       "       (<Time object: scale='tai' format='isot' value=2043-04-19T15:50:24.000>, <Time object: scale='tai' format='isot' value=2043-05-03T15:50:24.000>, 'catastrophic event'),\n",
       "       (<Time object: scale='tai' format='isot' value=2043-09-27T15:50:24.000>, <Time object: scale='tai' format='isot' value=2043-09-28T15:50:24.000>, 'minor event'),\n",
       "       (<Time object: scale='tai' format='isot' value=2043-11-19T15:50:24.000>, <Time object: scale='tai' format='isot' value=2043-11-20T15:50:24.000>, 'minor event'),\n",
       "       (<Time object: scale='tai' format='isot' value=2043-12-06T15:50:24.000>, <Time object: scale='tai' format='isot' value=2043-12-07T15:50:24.000>, 'minor event'),\n",
       "       (<Time object: scale='tai' format='isot' value=2044-06-02T15:50:24.000>, <Time object: scale='tai' format='isot' value=2044-06-03T15:50:24.000>, 'minor event')],\n",
       "      dtype=[('start', 'O'), ('end', 'O'), ('activity', 'O')])"
      ]
     },
     "execution_count": 3,
     "metadata": {},
     "output_type": "execute_result"
    }
   ],
   "source": [
    "main_dt.downtime"
   ]
  },
  {
   "cell_type": "code",
   "execution_count": 4,
   "id": "f4ea3bdf-b978-4456-916f-bd107903ac06",
   "metadata": {},
   "outputs": [],
   "source": [
    "the_three = new_downtimes(mjd_start=mjd, seed=43)"
   ]
  },
  {
   "cell_type": "code",
   "execution_count": 5,
   "id": "3974765b-ec44-407c-83d0-afc0c4cdcc61",
   "metadata": {},
   "outputs": [
    {
     "data": {
      "text/plain": [
       "array([(60796.95865975, 60797.43041402), (60800.07122296, 60800.11288963),\n",
       "       (60801.24879945, 60801.41829171), (60803.02129284, 60803.34281348),\n",
       "       (60804.13351142, 60804.42407575), (60807.21412386, 60807.25579053),\n",
       "       (60809.95274602, 60810.43539428), (60812.01941682, 60812.27896569),\n",
       "       (60814.1268892 , 60814.29642779), (60815.06525141, 60815.32517979),\n",
       "       (60816.071694  , 60816.26694297), (60816.98134784, 60817.05307011),\n",
       "       (60819.27602442, 60819.38153487), (60819.94985317, 60820.4390628 ),\n",
       "       (60821.13316232, 60821.32314782), (60821.94945611, 60822.43976153),\n",
       "       (60824.27746328, 60824.35904036), (60826.94957795, 60827.3750399 ),\n",
       "       (60828.1945137 , 60828.2536017 ), (60832.28095328, 60832.41383235),\n",
       "       (60839.08767996, 60839.29768086), (60847.05155286, 60847.09321952),\n",
       "       (60849.12697627, 60849.44536096), (60851.29253525, 60851.33420192),\n",
       "       (60852.391337  , 60852.43300367), (60853.04218738, 60853.08385405),\n",
       "       (60854.38045711, 60854.42212378), (60856.03204571, 60856.34958348),\n",
       "       (60876.95723665, 60877.44462094), (60877.95757806, 60878.4443356 ),\n",
       "       (60879.96128493, 60880.44060266), (60881.95896262, 60882.44303935),\n",
       "       (60886.02467071, 60886.06633737), (60888.96142265, 60889.44019873),\n",
       "       (60900.10647887, 60900.14814554), (60901.97171298, 60902.42563051),\n",
       "       (60904.10396386, 60904.14563053), (60904.97488524, 60905.33159717),\n",
       "       (60911.99881613, 60912.20231376), (60912.96982311, 60913.42554508),\n",
       "       (60914.07719941, 60914.34749666), (60919.97227386, 60920.42013042),\n",
       "       (60925.26260595, 60925.30427261), (60931.36261426, 60931.40428092),\n",
       "       (60933.14994251, 60933.19160918), (60934.01750125, 60934.17275462),\n",
       "       (60937.97891001, 60938.404772  ), (60942.02776159, 60942.39656122),\n",
       "       (60943.06779999, 60943.17434961), (60943.98135608, 60944.39941513),\n",
       "       (60946.06264208, 60946.32768367), (60951.98489793, 60952.39194252),\n",
       "       (60958.13403004, 60958.17569671), (60959.16756068, 60959.26069548),\n",
       "       (60963.21765848, 60963.25932515), (60963.99087124, 60964.38186948),\n",
       "       (60968.31275971, 60968.35442637), (60971.0501161 , 60971.24439338),\n",
       "       (60973.1859753 , 60973.22764197), (60978.29149624, 60978.3331629 ),\n",
       "       (60978.99975081, 60979.37031667), (60980.0003932 , 60980.36962436),\n",
       "       (60987.01486558, 60987.36504577), (60996.11757306, 60996.15923972),\n",
       "       (60997.18151182, 60997.22317849), (61000.23958378, 61000.28125044),\n",
       "       (61001.25647347, 61001.3357791 ), (61010.08532309, 61010.26264376),\n",
       "       (61011.02144664, 61011.35672561), (61017.02507553, 61017.35655983),\n",
       "       (61020.03365952, 61020.07532618), (61027.29139385, 61027.33306052),\n",
       "       (61028.09352702, 61028.34976664), (61030.2308235 , 61030.27249016),\n",
       "       (61040.26552435, 61040.30719102), (61041.04116033, 61041.33826461),\n",
       "       (61042.06392446, 61042.3245506 ), (61048.12388303, 61048.1655497 ),\n",
       "       (61055.28405631, 61055.32572298), (61058.66      , 61061.66      ),\n",
       "       (61068.03452145, 61068.25200887), (61070.02797725, 61070.38363708),\n",
       "       (61077.02409814, 61077.38864605), (61085.20680683, 61085.31649093),\n",
       "       (61094.0388808 , 61094.13819945), (61095.31183852, 61095.35350518),\n",
       "       (61100.16526604, 61100.20876736), (61105.00297223, 61105.40602485),\n",
       "       (61113.02593382, 61113.33031989), (61116.00672953, 61116.29211303),\n",
       "       (61117.04786062, 61117.24981356), (61123.99459841, 61124.04624709),\n",
       "       (61152.27033333, 61152.31199999), (61220.66      , 61223.66      ),\n",
       "       (61271.66      , 61274.66      ), (61397.66      , 61411.66      ),\n",
       "       (61457.66      , 61460.66      ), (61464.66      , 61465.66      ),\n",
       "       (61531.66      , 61532.66      ), (61566.66      , 61567.66      ),\n",
       "       (61691.66      , 61692.66      ), (61773.66      , 61774.66      ),\n",
       "       (61861.66      , 61862.66      ), (61893.66      , 61894.66      ),\n",
       "       (61929.66      , 61930.66      ), (61989.66      , 61990.66      ),\n",
       "       (62163.66      , 62164.66      ), (62167.66      , 62168.66      ),\n",
       "       (62227.66      , 62228.66      ), (62240.66      , 62241.66      ),\n",
       "       (62321.66      , 62324.66      ), (62343.66      , 62346.66      ),\n",
       "       (62518.66      , 62519.66      ), (62544.66      , 62545.66      ),\n",
       "       (62559.66      , 62562.66      ), (62634.66      , 62637.66      ),\n",
       "       (62682.66      , 62685.66      ), (62745.66      , 62748.66      ),\n",
       "       (62866.66      , 62867.66      ), (62898.66      , 62899.66      ),\n",
       "       (62926.66      , 62927.66      ), (62996.66      , 62997.66      ),\n",
       "       (63034.66      , 63035.66      ), (63192.66      , 63195.66      ),\n",
       "       (63201.66      , 63202.66      ), (63279.66      , 63280.66      ),\n",
       "       (63341.66      , 63348.66      ), (63470.66      , 63473.66      ),\n",
       "       (63499.66      , 63500.66      ), (63537.66      , 63538.66      ),\n",
       "       (63549.66      , 63550.66      ), (63576.66      , 63577.66      ),\n",
       "       (63677.66      , 63678.66      ), (63704.66      , 63705.66      ),\n",
       "       (63854.66      , 63855.66      ), (63940.66      , 63941.66      ),\n",
       "       (64019.66      , 64020.66      ), (64030.66      , 64033.66      ),\n",
       "       (64085.66      , 64086.66      ), (64122.66      , 64123.66      ),\n",
       "       (64127.66      , 64128.66      ), (64145.66      , 64152.66      ),\n",
       "       (64245.66      , 64248.66      ), (64254.66      , 64257.66      ),\n",
       "       (64287.66      , 64288.66      ), (64306.66      , 64307.66      ),\n",
       "       (64337.66      , 64338.66      ), (64448.66      , 64449.66      ),\n",
       "       (64474.66      , 64477.66      ), (64543.66      , 64550.66      ),\n",
       "       (64567.66      , 64570.66      ), (64676.66      , 64683.66      ),\n",
       "       (64715.66      , 64716.66      ), (64797.66      , 64800.66      ),\n",
       "       (64813.66      , 64814.66      ), (64921.66      , 64924.66      ),\n",
       "       (64929.66      , 64936.66      ), (65103.66      , 65110.66      ),\n",
       "       (65269.66      , 65272.66      ), (65352.66      , 65353.66      ),\n",
       "       (65379.66      , 65380.66      ), (65415.66      , 65416.66      ),\n",
       "       (65443.66      , 65444.66      ), (65469.66      , 65470.66      ),\n",
       "       (65508.66      , 65511.66      ), (65547.66      , 65550.66      ),\n",
       "       (65579.66      , 65580.66      ), (65639.66      , 65640.66      ),\n",
       "       (65643.66      , 65646.66      ), (65843.66      , 65846.66      ),\n",
       "       (65887.66      , 65888.66      ), (65939.66      , 65940.66      ),\n",
       "       (65969.66      , 65970.66      ), (66003.66      , 66006.66      ),\n",
       "       (66067.66      , 66068.66      ), (66100.66      , 66101.66      ),\n",
       "       (66116.66      , 66123.66      ), (66154.66      , 66155.66      ),\n",
       "       (66257.66      , 66260.66      ), (66400.66      , 66403.66      ),\n",
       "       (66577.66      , 66578.66      ), (66634.66      , 66637.66      ),\n",
       "       (66662.66      , 66663.66      ), (66696.66      , 66697.66      ),\n",
       "       (66714.66      , 66715.66      ), (66733.66      , 66734.66      ),\n",
       "       (66806.66      , 66820.66      ), (66826.66      , 66827.66      ),\n",
       "       (66924.66      , 66927.66      ), (66951.66      , 66954.66      ),\n",
       "       (67027.66      , 67028.66      ), (67076.66      , 67077.66      ),\n",
       "       (67109.66      , 67110.66      ), (67138.66      , 67141.66      ),\n",
       "       (67235.66      , 67236.66      ), (67284.66      , 67285.66      ),\n",
       "       (67469.66      , 67470.66      ), (67551.66      , 67552.66      ),\n",
       "       (67566.66      , 67567.66      ), (67573.66      , 67574.66      ),\n",
       "       (67603.66      , 67604.66      ), (67614.66      , 67615.66      ),\n",
       "       (67698.66      , 67701.66      ), (67723.66      , 67737.66      ),\n",
       "       (67884.66      , 67885.66      ), (67937.66      , 67938.66      ),\n",
       "       (67954.66      , 67955.66      ), (68133.66      , 68134.66      )],\n",
       "      dtype=[('start', '<f8'), ('end', '<f8')])"
      ]
     },
     "execution_count": 5,
     "metadata": {},
     "output_type": "execute_result"
    }
   ],
   "source": [
    "the_three"
   ]
  },
  {
   "cell_type": "code",
   "execution_count": 6,
   "id": "c2770b64-24fb-4d3f-8d1b-f6626dec7e1f",
   "metadata": {},
   "outputs": [],
   "source": [
    "the_main = [(t[0].mjd, t[1].mjd) for t in main_dt.downtime]"
   ]
  },
  {
   "cell_type": "code",
   "execution_count": 7,
   "id": "67ef786d-d08e-4bc9-a891-32ee90dc05ea",
   "metadata": {},
   "outputs": [
    {
     "data": {
      "text/plain": [
       "(209, 208)"
      ]
     },
     "execution_count": 7,
     "metadata": {},
     "output_type": "execute_result"
    }
   ],
   "source": [
    "len(the_main), len(the_three)"
   ]
  },
  {
   "cell_type": "code",
   "execution_count": 8,
   "id": "eb07850a-bec8-4bcc-bef9-ade690a55ff1",
   "metadata": {},
   "outputs": [],
   "source": [
    "ack = 0\n",
    "for t in the_main:\n",
    "    ack += t[1]-t[0]"
   ]
  },
  {
   "cell_type": "code",
   "execution_count": 9,
   "id": "21d2920b-ab2c-4dc4-b56a-2465a9bd8c6a",
   "metadata": {},
   "outputs": [
    {
     "data": {
      "text/plain": [
       "280.58658657943306"
      ]
     },
     "execution_count": 9,
     "metadata": {},
     "output_type": "execute_result"
    }
   ],
   "source": [
    "ack"
   ]
  },
  {
   "cell_type": "code",
   "execution_count": 10,
   "id": "ebaf4c07-614f-41de-94ef-c0a849ab3421",
   "metadata": {},
   "outputs": [],
   "source": [
    "ack = 0\n",
    "for t in the_three:\n",
    "    ack += t[1]-t[0]"
   ]
  },
  {
   "cell_type": "code",
   "execution_count": 11,
   "id": "abe66633-280c-4a9e-911d-e4553edb1e61",
   "metadata": {},
   "outputs": [
    {
     "data": {
      "text/plain": [
       "280.41353589815844"
      ]
     },
     "execution_count": 11,
     "metadata": {},
     "output_type": "execute_result"
    }
   ],
   "source": [
    "ack"
   ]
  },
  {
   "cell_type": "code",
   "execution_count": 12,
   "id": "d2336611-ba73-42ef-a85d-540ccd59116a",
   "metadata": {},
   "outputs": [
    {
     "name": "stdout",
     "output_type": "stream",
     "text": [
      "46.58658657943306 280.58658657943306\n"
     ]
    },
    {
     "data": {
      "text/plain": [
       "Text(0, 0.5, 'Downtime length (days)')"
      ]
     },
     "execution_count": 12,
     "metadata": {},
     "output_type": "execute_result"
    },
    {
     "data": {
      "image/png": "[encoded data removed]",
      "text/plain": [
       "<Figure size 640x480 with 1 Axes>"
      ]
     },
     "metadata": {},
     "output_type": "display_data"
    }
   ],
   "source": [
    "deltas = np.array([t[1]-t[0] for t in the_main])\n",
    "t_0 = np.array([t[0] for t in the_main])-mjd\n",
    "plt.plot(t_0, deltas, 'ko')\n",
    "y1 = np.where(t_0 < 366)[0]\n",
    "\n",
    "print(np.sum(deltas[y1]), np.sum(deltas))\n",
    "plt.title('main')\n",
    "plt.xlabel('night')\n",
    "plt.ylabel('Downtime length (days)')"
   ]
  },
  {
   "cell_type": "code",
   "execution_count": 13,
   "id": "15e07fe6-f327-4a25-8731-37fd276ffb26",
   "metadata": {},
   "outputs": [
    {
     "name": "stdout",
     "output_type": "stream",
     "text": [
      "22.413535898158443 280.41353589815844\n"
     ]
    },
    {
     "data": {
      "text/plain": [
       "Text(0, 0.5, 'Downtime length (days)')"
      ]
     },
     "execution_count": 13,
     "metadata": {},
     "output_type": "execute_result"
    },
    {
     "data": {
      "image/png": "[encoded data removed]",
      "text/plain": [
       "<Figure size 640x480 with 1 Axes>"
      ]
     },
     "metadata": {},
     "output_type": "display_data"
    }
   ],
   "source": [
    "deltas = np.array([t[1]-t[0] for t in the_three])\n",
    "t_0 = np.array([t[0] for t in the_three])-mjd\n",
    "plt.plot(t_0, deltas, 'ko')\n",
    "y1 = np.where(t_0 < 366)[0]\n",
    "\n",
    "print(np.sum(deltas[y1]), np.sum(deltas))\n",
    "plt.title('v3.5')\n",
    "plt.xlabel('night')\n",
    "plt.ylabel('Downtime length (days)')"
   ]
  },
  {
   "cell_type": "code",
   "execution_count": null,
   "id": "9e30c2d4-64a8-489a-91f4-64c08430010a",
   "metadata": {},
   "outputs": [],
   "source": []
  }
 ],
 "metadata": {
  "kernelspec": {
   "display_name": "Python 3 (ipykernel)",
   "language": "python",
   "name": "python3"
  },
  "language_info": {
   "codemirror_mode": {
    "name": "ipython",
    "version": 3
   },
   "file_extension": ".py",
   "mimetype": "text/x-python",
   "name": "python",
   "nbconvert_exporter": "python",
   "pygments_lexer": "ipython3",
   "version": "3.11.8"
  }
 },
 "nbformat": 4,
 "nbformat_minor": 5
}
