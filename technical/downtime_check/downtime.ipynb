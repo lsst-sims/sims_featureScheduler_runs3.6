{
 "cells": [
  {
   "cell_type": "code",
   "execution_count": 1,
   "id": "867e7d0f-1110-47b3-ae5e-7483d6897e40",
   "metadata": {},
   "outputs": [],
   "source": [
    "import numpy as np\n",
    "from rubin_scheduler.site_models import UnscheduledDowntimeMoreY1Data\n",
    "from the35down import new_downtimes\n",
    "from rubin_scheduler.utils import survey_start_mjd\n",
    "from astropy.time import Time\n",
    "import matplotlib.pylab as plt\n",
    "%matplotlib inline"
   ]
  },
  {
   "cell_type": "code",
   "execution_count": 2,
   "id": "669d42e9-3b75-4146-8742-d871f9a214a9",
   "metadata": {},
   "outputs": [],
   "source": [
    "mjd = survey_start_mjd()\n",
    "mjd_start_time = Time(mjd, format=\"mjd\")\n",
    "main_dt = UnscheduledDowntimeMoreY1Data(mjd_start_time)\n",
    "main_dt.make_data()\n"
   ]
  },
  {
   "cell_type": "code",
   "execution_count": 3,
   "id": "31451728-0242-4a35-9a19-ceebc9d3beeb",
   "metadata": {},
   "outputs": [
    {
     "data": {
      "text/plain": [
       "array([(<Time object: scale='tai' format='isot' value=2025-01-29T15:50:24.000>, <Time object: scale='tai' format='isot' value=2025-01-30T15:50:24.000>, 'minor event'),\n",
       "       (<Time object: scale='tai' format='isot' value=2025-02-03T15:50:24.000>, <Time object: scale='tai' format='isot' value=2025-02-06T15:50:24.000>, 'intermediate event'),\n",
       "       (<Time object: scale='tai' format='isot' value=2025-03-02T15:50:24.000>, <Time object: scale='tai' format='isot' value=2025-03-09T15:50:24.000>, 'major event'),\n",
       "       (<Time object: scale='tai' format='isot' value=2025-04-02T15:50:24.000>, <Time object: scale='tai' format='isot' value=2025-04-03T15:50:24.000>, 'minor event'),\n",
       "       (<Time object: scale='tai' format='isot' value=2025-04-07T15:50:24.000>, <Time object: scale='tai' format='isot' value=2025-04-08T15:50:24.000>, 'minor event'),\n",
       "       (<Time object: scale='tai' format='isot' value=2025-04-24T15:50:24.000>, <Time object: scale='tai' format='isot' value=2025-04-25T15:50:24.000>, 'minor event'),\n",
       "       (<Time object: scale='utc' format='mjd' value=60796.20414695207>, <Time object: scale='utc' format='mjd' value=60796.340945254335>, 'Year1 Eng'),\n",
       "       (<Time object: scale='utc' format='mjd' value=60797.07646492506>, <Time object: scale='utc' format='mjd' value=60797.11813159173>, 'Year1 Eng'),\n",
       "       (<Time object: scale='utc' format='mjd' value=60798.14956477869>, <Time object: scale='utc' format='mjd' value=60798.19123144535>, 'Year1 Eng'),\n",
       "       (<Time object: scale='utc' format='mjd' value=60802.98766597603>, <Time object: scale='utc' format='mjd' value=60803.36936779983>, 'Year1 Eng'),\n",
       "       (<Time object: scale='utc' format='mjd' value=60805.26596504449>, <Time object: scale='utc' format='mjd' value=60805.307631711155>, 'Year1 Eng'),\n",
       "       (<Time object: scale='utc' format='mjd' value=60806.19220682897>, <Time object: scale='utc' format='mjd' value=60806.306685963384>, 'Year1 Eng'),\n",
       "       (<Time object: scale='utc' format='mjd' value=60807.988448793665>, <Time object: scale='utc' format='mjd' value=60808.11713545533>, 'Year1 Eng'),\n",
       "       (<Time object: scale='utc' format='mjd' value=60810.28947133693>, <Time object: scale='utc' format='mjd' value=60810.43262023702>, 'Year1 Eng'),\n",
       "       (<Time object: scale='utc' format='mjd' value=60810.97679088568>, <Time object: scale='utc' format='mjd' value=60811.22004034035>, 'Year1 Eng'),\n",
       "       (<Time object: scale='utc' format='mjd' value=60812.072621717656>, <Time object: scale='utc' format='mjd' value=60812.36213114732>, 'Year1 Eng'),\n",
       "       (<Time object: scale='utc' format='mjd' value=60814.15475733523>, <Time object: scale='utc' format='mjd' value=60814.19642400189>, 'Year1 Eng'),\n",
       "       (<Time object: scale='utc' format='mjd' value=60815.982442723194>, <Time object: scale='utc' format='mjd' value=60816.179239301324>, 'Year1 Eng'),\n",
       "       (<Time object: scale='utc' format='mjd' value=60819.988720398665>, <Time object: scale='utc' format='mjd' value=60820.27178515744>, 'Year1 Eng'),\n",
       "       (<Time object: scale='utc' format='mjd' value=60821.94945611246>, <Time object: scale='utc' format='mjd' value=60822.439761532005>, 'Year1 Eng'),\n",
       "       (<Time object: scale='utc' format='mjd' value=60824.17253877833>, <Time object: scale='utc' format='mjd' value=60824.32602490177>, 'Year1 Eng'),\n",
       "       (<Time object: scale='utc' format='mjd' value=60826.03663507729>, <Time object: scale='utc' format='mjd' value=60826.07830174395>, 'Year1 Eng'),\n",
       "       (<Time object: scale='utc' format='mjd' value=60827.24887722197>, <Time object: scale='utc' format='mjd' value=60827.29054388864>, 'Year1 Eng'),\n",
       "       (<Time object: scale='utc' format='mjd' value=60827.94862092519>, <Time object: scale='utc' format='mjd' value=60828.4417515113>, 'Year1 Eng'),\n",
       "       (<Time object: scale='utc' format='mjd' value=60829.16210051325>, <Time object: scale='utc' format='mjd' value=60829.34170226407>, 'Year1 Eng'),\n",
       "       (<Time object: scale='tai' format='isot' value=2025-06-04T15:50:24.000>, <Time object: scale='tai' format='isot' value=2025-06-05T15:50:24.000>, 'minor event'),\n",
       "       (<Time object: scale='utc' format='mjd' value=60831.990610406974>, <Time object: scale='utc' format='mjd' value=60832.30450888473>, 'Year1 Eng'),\n",
       "       (<Time object: scale='utc' format='mjd' value=60833.94830155838>, <Time object: scale='utc' format='mjd' value=60834.44351558713>, 'Year1 Eng'),\n",
       "       (<Time object: scale='utc' format='mjd' value=60836.980053284824>, <Time object: scale='utc' format='mjd' value=60837.215262284255>, 'Year1 Eng'),\n",
       "       (<Time object: scale='utc' format='mjd' value=60840.999857761744>, <Time object: scale='utc' format='mjd' value=60841.16466436581>, 'Year1 Eng'),\n",
       "       (<Time object: scale='utc' format='mjd' value=60842.207346857205>, <Time object: scale='utc' format='mjd' value=60842.24901352387>, 'Year1 Eng'),\n",
       "       (<Time object: scale='utc' format='mjd' value=60845.09489708517>, <Time object: scale='utc' format='mjd' value=60845.13656375183>, 'Year1 Eng'),\n",
       "       (<Time object: scale='utc' format='mjd' value=60848.949560530484>, <Time object: scale='utc' format='mjd' value=60849.44657096965>, 'Year1 Eng'),\n",
       "       (<Time object: scale='utc' format='mjd' value=60850.20651241571>, <Time object: scale='utc' format='mjd' value=60850.27558471331>, 'Year1 Eng'),\n",
       "       (<Time object: scale='utc' format='mjd' value=60851.2756772713>, <Time object: scale='utc' format='mjd' value=60851.34170142287>, 'Year1 Eng'),\n",
       "       (<Time object: scale='utc' format='mjd' value=60852.21060771384>, <Time object: scale='utc' format='mjd' value=60852.2522743805>, 'Year1 Eng'),\n",
       "       (<Time object: scale='utc' format='mjd' value=60852.95032687578>, <Time object: scale='utc' format='mjd' value=60853.44697283488>, 'Year1 Eng'),\n",
       "       (<Time object: scale='utc' format='mjd' value=60855.380945073164>, <Time object: scale='utc' format='mjd' value=60855.42261173983>, 'Year1 Eng'),\n",
       "       (<Time object: scale='utc' format='mjd' value=60856.06064221011>, <Time object: scale='utc' format='mjd' value=60856.38048144186>, 'Year1 Eng'),\n",
       "       (<Time object: scale='utc' format='mjd' value=60856.97177722856>, <Time object: scale='utc' format='mjd' value=60857.224511375935>, 'Year1 Eng'),\n",
       "       (<Time object: scale='utc' format='mjd' value=60859.99535029208>, <Time object: scale='utc' format='mjd' value=60860.20683160595>, 'Year1 Eng'),\n",
       "       (<Time object: scale='utc' format='mjd' value=60863.99518528649>, <Time object: scale='utc' format='mjd' value=60864.036851953155>, 'Year1 Eng'),\n",
       "       (<Time object: scale='utc' format='mjd' value=60865.32026631252>, <Time object: scale='utc' format='mjd' value=60865.44078773505>, 'Year1 Eng'),\n",
       "       (<Time object: scale='utc' format='mjd' value=60869.08497973595>, <Time object: scale='utc' format='mjd' value=60869.12664640261>, 'Year1 Eng'),\n",
       "       (<Time object: scale='utc' format='mjd' value=60871.02138317015>, <Time object: scale='utc' format='mjd' value=60871.359148434254>, 'Year1 Eng'),\n",
       "       (<Time object: scale='utc' format='mjd' value=60880.046969904564>, <Time object: scale='utc' format='mjd' value=60880.40471677149>, 'Year1 Eng'),\n",
       "       (<Time object: scale='utc' format='mjd' value=60880.977141685726>, <Time object: scale='utc' format='mjd' value=60881.292493908804>, 'Year1 Eng'),\n",
       "       (<Time object: scale='utc' format='mjd' value=60882.21506773741>, <Time object: scale='utc' format='mjd' value=60882.43365889539>, 'Year1 Eng'),\n",
       "       (<Time object: scale='utc' format='mjd' value=60883.08235542982>, <Time object: scale='utc' format='mjd' value=60883.3270113964>, 'Year1 Eng'),\n",
       "       (<Time object: scale='utc' format='mjd' value=60885.029838354676>, <Time object: scale='utc' format='mjd' value=60885.07150502134>, 'Year1 Eng'),\n",
       "       (<Time object: scale='utc' format='mjd' value=60887.14889748079>, <Time object: scale='utc' format='mjd' value=60887.43336783552>, 'Year1 Eng'),\n",
       "       (<Time object: scale='utc' format='mjd' value=60887.96107018273>, <Time object: scale='utc' format='mjd' value=60888.44064906612>, 'Year1 Eng'),\n",
       "       (<Time object: scale='utc' format='mjd' value=60889.06556231743>, <Time object: scale='utc' format='mjd' value=60889.16020113834>, 'Year1 Eng'),\n",
       "       (<Time object: scale='tai' format='isot' value=2025-08-05T15:50:24.000>, <Time object: scale='tai' format='isot' value=2025-08-06T15:50:24.000>, 'minor event'),\n",
       "       (<Time object: scale='utc' format='mjd' value=60897.05095792269>, <Time object: scale='utc' format='mjd' value=60897.26904048573>, 'Year1 Eng'),\n",
       "       (<Time object: scale='utc' format='mjd' value=60899.238873125934>, <Time object: scale='utc' format='mjd' value=60899.307684788895>, 'Year1 Eng'),\n",
       "       (<Time object: scale='utc' format='mjd' value=60900.96563350037>, <Time object: scale='utc' format='mjd' value=60901.43372846488>, 'Year1 Eng'),\n",
       "       (<Time object: scale='utc' format='mjd' value=60901.965982853435>, <Time object: scale='utc' format='mjd' value=60902.43310766993>, 'Year1 Eng'),\n",
       "       (<Time object: scale='utc' format='mjd' value=60905.06377819517>, <Time object: scale='utc' format='mjd' value=60905.38257020454>, 'Year1 Eng'),\n",
       "       (<Time object: scale='utc' format='mjd' value=60907.96807789756>, <Time object: scale='utc' format='mjd' value=60908.42913982086>, 'Year1 Eng'),\n",
       "       (<Time object: scale='utc' format='mjd' value=60908.968426950276>, <Time object: scale='utc' format='mjd' value=60909.42844157247>, 'Year1 Eng'),\n",
       "       (<Time object: scale='utc' format='mjd' value=60911.19605921029>, <Time object: scale='utc' format='mjd' value=60911.33557513045>, 'Year1 Eng'),\n",
       "       (<Time object: scale='utc' format='mjd' value=60914.07359299557>, <Time object: scale='utc' format='mjd' value=60914.115259662234>, 'Year1 Eng'),\n",
       "       (<Time object: scale='utc' format='mjd' value=60914.990814241595>, <Time object: scale='utc' format='mjd' value=60915.13712777023>, 'Year1 Eng'),\n",
       "       (<Time object: scale='utc' format='mjd' value=60916.07406142059>, <Time object: scale='utc' format='mjd' value=60916.32888395473>, 'Year1 Eng'),\n",
       "       (<Time object: scale='utc' format='mjd' value=60919.01764236184>, <Time object: scale='utc' format='mjd' value=60919.37981985637>, 'Year1 Eng'),\n",
       "       (<Time object: scale='utc' format='mjd' value=60921.073297760515>, <Time object: scale='utc' format='mjd' value=60921.39751078601>, 'Year1 Eng'),\n",
       "       (<Time object: scale='utc' format='mjd' value=60921.972979352344>, <Time object: scale='utc' format='mjd' value=60922.41851197183>, 'Year1 Eng'),\n",
       "       (<Time object: scale='utc' format='mjd' value=60924.220906446506>, <Time object: scale='utc' format='mjd' value=60924.40334355689>, 'Year1 Eng'),\n",
       "       (<Time object: scale='utc' format='mjd' value=60924.974046119954>, <Time object: scale='utc' format='mjd' value=60925.416032740846>, 'Year1 Eng'),\n",
       "       (<Time object: scale='utc' format='mjd' value=60931.148881187204>, <Time object: scale='utc' format='mjd' value=60931.19054785387>, 'Year1 Eng'),\n",
       "       (<Time object: scale='utc' format='mjd' value=60932.282515329614>, <Time object: scale='utc' format='mjd' value=60932.32418199628>, 'Year1 Eng'),\n",
       "       (<Time object: scale='utc' format='mjd' value=60932.976979001425>, <Time object: scale='utc' format='mjd' value=60933.409180514514>, 'Year1 Eng'),\n",
       "       (<Time object: scale='utc' format='mjd' value=60933.99931967475>, <Time object: scale='utc' format='mjd' value=60934.04098634142>, 'Year1 Eng'),\n",
       "       (<Time object: scale='utc' format='mjd' value=60936.978516501375>, <Time object: scale='utc' format='mjd' value=60937.40565939387>, 'Year1 Eng'),\n",
       "       (<Time object: scale='utc' format='mjd' value=60940.015270397926>, <Time object: scale='utc' format='mjd' value=60940.3972548359>, 'Year1 Eng'),\n",
       "       (<Time object: scale='tai' format='isot' value=2025-09-22T15:50:24.000>, <Time object: scale='tai' format='isot' value=2025-09-29T15:50:24.000>, 'major event'),\n",
       "       (<Time object: scale='utc' format='mjd' value=60942.102629655696>, <Time object: scale='utc' format='mjd' value=60942.184260798735>, 'Year1 Eng'),\n",
       "       (<Time object: scale='utc' format='mjd' value=60944.1120514996>, <Time object: scale='utc' format='mjd' value=60944.30233366426>, 'Year1 Eng'),\n",
       "       (<Time object: scale='utc' format='mjd' value=60944.98177905381>, <Time object: scale='utc' format='mjd' value=60945.39852035325>, 'Year1 Eng'),\n",
       "       (<Time object: scale='utc' format='mjd' value=60947.04563525153>, <Time object: scale='utc' format='mjd' value=60947.342737744395>, 'Year1 Eng'),\n",
       "       (<Time object: scale='utc' format='mjd' value=60947.98307667347>, <Time object: scale='utc' format='mjd' value=60948.395831735805>, 'Year1 Eng'),\n",
       "       (<Time object: scale='utc' format='mjd' value=60950.006951211784>, <Time object: scale='utc' format='mjd' value=60950.0922496547>, 'Year1 Eng'),\n",
       "       (<Time object: scale='utc' format='mjd' value=60952.985342956614>, <Time object: scale='utc' format='mjd' value=60953.391375061125>, 'Year1 Eng'),\n",
       "       (<Time object: scale='utc' format='mjd' value=60958.988257430494>, <Time object: scale='utc' format='mjd' value=60959.38611895405>, 'Year1 Eng'),\n",
       "       (<Time object: scale='utc' format='mjd' value=60961.04987904622>, <Time object: scale='utc' format='mjd' value=60961.09154571289>, 'Year1 Eng'),\n",
       "       (<Time object: scale='utc' format='mjd' value=60963.131210886706>, <Time object: scale='utc' format='mjd' value=60963.350271334886>, 'Year1 Eng'),\n",
       "       (<Time object: scale='utc' format='mjd' value=60965.144886541246>, <Time object: scale='utc' format='mjd' value=60965.21371970987>, 'Year1 Eng'),\n",
       "       (<Time object: scale='utc' format='mjd' value=60966.33619818636>, <Time object: scale='utc' format='mjd' value=60966.37786485303>, 'Year1 Eng'),\n",
       "       (<Time object: scale='utc' format='mjd' value=60967.16372545403>, <Time object: scale='utc' format='mjd' value=60967.22270679924>, 'Year1 Eng'),\n",
       "       (<Time object: scale='tai' format='isot' value=2025-10-19T15:50:24.000>, <Time object: scale='tai' format='isot' value=2025-10-20T15:50:24.000>, 'minor event'),\n",
       "       (<Time object: scale='utc' format='mjd' value=60986.14343443132>, <Time object: scale='utc' format='mjd' value=60986.22714927757>, 'Year1 Eng'),\n",
       "       (<Time object: scale='utc' format='mjd' value=60987.085123052435>, <Time object: scale='utc' format='mjd' value=60987.1267897191>, 'Year1 Eng'),\n",
       "       (<Time object: scale='utc' format='mjd' value=60989.06317825875>, <Time object: scale='utc' format='mjd' value=60989.18457297452>, 'Year1 Eng'),\n",
       "       (<Time object: scale='utc' format='mjd' value=60991.193209157274>, <Time object: scale='utc' format='mjd' value=60991.23487582394>, 'Year1 Eng'),\n",
       "       (<Time object: scale='utc' format='mjd' value=60993.032113125264>, <Time object: scale='utc' format='mjd' value=60993.26022547108>, 'Year1 Eng'),\n",
       "       (<Time object: scale='utc' format='mjd' value=60996.11716090657>, <Time object: scale='utc' format='mjd' value=60996.29994156403>, 'Year1 Eng'),\n",
       "       (<Time object: scale='utc' format='mjd' value=60999.07273840185>, <Time object: scale='utc' format='mjd' value=60999.11440506851>, 'Year1 Eng'),\n",
       "       (<Time object: scale='utc' format='mjd' value=61001.08076424624>, <Time object: scale='utc' format='mjd' value=61001.1224309129>, 'Year1 Eng'),\n",
       "       (<Time object: scale='utc' format='mjd' value=61003.01612947462>, <Time object: scale='utc' format='mjd' value=61003.35823134519>, 'Year1 Eng'),\n",
       "       (<Time object: scale='utc' format='mjd' value=61004.14355395534>, <Time object: scale='utc' format='mjd' value=61004.18522062201>, 'Year1 Eng'),\n",
       "       (<Time object: scale='utc' format='mjd' value=61006.1554040219>, <Time object: scale='utc' format='mjd' value=61006.30914138055>, 'Year1 Eng'),\n",
       "       (<Time object: scale='utc' format='mjd' value=61007.13517905937>, <Time object: scale='utc' format='mjd' value=61007.17684572603>, 'Year1 Eng'),\n",
       "       (<Time object: scale='utc' format='mjd' value=61011.05490163505>, <Time object: scale='utc' format='mjd' value=61011.35057073712>, 'Year1 Eng'),\n",
       "       (<Time object: scale='utc' format='mjd' value=61013.02269838238>, <Time object: scale='utc' format='mjd' value=61013.356583570596>, 'Year1 Eng'),\n",
       "       (<Time object: scale='utc' format='mjd' value=61020.190242252036>, <Time object: scale='utc' format='mjd' value=61020.28311939047>, 'Year1 Eng'),\n",
       "       (<Time object: scale='utc' format='mjd' value=61023.08655648369>, <Time object: scale='utc' format='mjd' value=61023.20239268685>, 'Year1 Eng'),\n",
       "       (<Time object: scale='utc' format='mjd' value=61024.038714466056>, <Time object: scale='utc' format='mjd' value=61024.34773977875>, 'Year1 Eng'),\n",
       "       (<Time object: scale='tai' format='isot' value=2025-12-25T15:50:24.000>, <Time object: scale='tai' format='isot' value=2025-12-28T15:50:24.000>, 'intermediate event'),\n",
       "       (<Time object: scale='utc' format='mjd' value=61038.2856322406>, <Time object: scale='utc' format='mjd' value=61038.327298907265>, 'Year1 Eng'),\n",
       "       (<Time object: scale='utc' format='mjd' value=61048.12679818122>, <Time object: scale='utc' format='mjd' value=61048.36140054762>, 'Year1 Eng'),\n",
       "       (<Time object: scale='utc' format='mjd' value=61050.24501726375>, <Time object: scale='utc' format='mjd' value=61050.28668393041>, 'Year1 Eng'),\n",
       "       (<Time object: scale='utc' format='mjd' value=61052.061559810536>, <Time object: scale='utc' format='mjd' value=61052.36601939501>, 'Year1 Eng'),\n",
       "       (<Time object: scale='utc' format='mjd' value=61055.09228695115>, <Time object: scale='utc' format='mjd' value=61055.26747340733>, 'Year1 Eng'),\n",
       "       (<Time object: scale='utc' format='mjd' value=61062.0313698682>, <Time object: scale='utc' format='mjd' value=61062.37782067992>, 'Year1 Eng'),\n",
       "       (<Time object: scale='utc' format='mjd' value=61067.031926915646>, <Time object: scale='utc' format='mjd' value=61067.30065939124>, 'Year1 Eng'),\n",
       "       (<Time object: scale='utc' format='mjd' value=61081.3326761505>, <Time object: scale='utc' format='mjd' value=61081.374342817166>, 'Year1 Eng'),\n",
       "       (<Time object: scale='utc' format='mjd' value=61082.02089163987>, <Time object: scale='utc' format='mjd' value=61082.392098660115>, 'Year1 Eng'),\n",
       "       (<Time object: scale='utc' format='mjd' value=61088.14447121431>, <Time object: scale='utc' format='mjd' value=61088.18613788098>, 'Year1 Eng'),\n",
       "       (<Time object: scale='utc' format='mjd' value=61091.13839561324>, <Time object: scale='utc' format='mjd' value=61091.31390130962>, 'Year1 Eng'),\n",
       "       (<Time object: scale='tai' format='isot' value=2026-02-20T15:50:24.000>, <Time object: scale='tai' format='isot' value=2026-02-21T15:50:24.000>, 'minor event'),\n",
       "       (<Time object: scale='utc' format='mjd' value=61095.1875724429>, <Time object: scale='utc' format='mjd' value=61095.22923910956>, 'Year1 Eng'),\n",
       "       (<Time object: scale='utc' format='mjd' value=61099.11701205148>, <Time object: scale='utc' format='mjd' value=61099.158678718144>, 'Year1 Eng'),\n",
       "       (<Time object: scale='utc' format='mjd' value=61106.014644332616>, <Time object: scale='utc' format='mjd' value=61106.40160229801>, 'Year1 Eng'),\n",
       "       (<Time object: scale='utc' format='mjd' value=61110.03231718102>, <Time object: scale='utc' format='mjd' value=61110.07398384769>, 'Year1 Eng'),\n",
       "       (<Time object: scale='utc' format='mjd' value=61116.36752038097>, <Time object: scale='utc' format='mjd' value=61116.40918704763>, 'Year1 Eng'),\n",
       "       (<Time object: scale='utc' format='mjd' value=61136.21408593894>, <Time object: scale='utc' format='mjd' value=61136.255752605604>, 'Year1 Eng'),\n",
       "       (<Time object: scale='utc' format='mjd' value=61137.32727633908>, <Time object: scale='utc' format='mjd' value=61137.36894300574>, 'Year1 Eng'),\n",
       "       (<Time object: scale='utc' format='mjd' value=61138.02947088893>, <Time object: scale='utc' format='mjd' value=61138.07113755559>, 'Year1 Eng'),\n",
       "       (<Time object: scale='utc' format='mjd' value=61174.977305773085>, <Time object: scale='utc' format='mjd' value=61175.16698914547>, 'Year1 Eng'),\n",
       "       (<Time object: scale='tai' format='isot' value=2026-07-18T15:50:24.000>, <Time object: scale='tai' format='isot' value=2026-07-19T15:50:24.000>, 'minor event'),\n",
       "       (<Time object: scale='tai' format='isot' value=2026-07-31T15:50:24.000>, <Time object: scale='tai' format='isot' value=2026-08-01T15:50:24.000>, 'minor event'),\n",
       "       (<Time object: scale='tai' format='isot' value=2026-08-10T15:50:24.000>, <Time object: scale='tai' format='isot' value=2026-08-11T15:50:24.000>, 'minor event'),\n",
       "       (<Time object: scale='tai' format='isot' value=2027-02-22T15:50:24.000>, <Time object: scale='tai' format='isot' value=2027-02-23T15:50:24.000>, 'minor event'),\n",
       "       (<Time object: scale='tai' format='isot' value=2027-05-06T15:50:24.000>, <Time object: scale='tai' format='isot' value=2027-05-09T15:50:24.000>, 'intermediate event'),\n",
       "       (<Time object: scale='tai' format='isot' value=2027-05-10T15:50:24.000>, <Time object: scale='tai' format='isot' value=2027-05-11T15:50:24.000>, 'minor event'),\n",
       "       (<Time object: scale='tai' format='isot' value=2027-06-16T15:50:24.000>, <Time object: scale='tai' format='isot' value=2027-06-17T15:50:24.000>, 'minor event'),\n",
       "       (<Time object: scale='tai' format='isot' value=2027-08-09T15:50:24.000>, <Time object: scale='tai' format='isot' value=2027-08-10T15:50:24.000>, 'minor event'),\n",
       "       (<Time object: scale='tai' format='isot' value=2027-09-15T15:50:24.000>, <Time object: scale='tai' format='isot' value=2027-09-16T15:50:24.000>, 'minor event'),\n",
       "       (<Time object: scale='tai' format='isot' value=2027-09-28T15:50:24.000>, <Time object: scale='tai' format='isot' value=2027-09-29T15:50:24.000>, 'minor event'),\n",
       "       (<Time object: scale='tai' format='isot' value=2027-11-21T15:50:24.000>, <Time object: scale='tai' format='isot' value=2027-11-24T15:50:24.000>, 'intermediate event'),\n",
       "       (<Time object: scale='tai' format='isot' value=2027-12-09T15:50:24.000>, <Time object: scale='tai' format='isot' value=2027-12-12T15:50:24.000>, 'intermediate event'),\n",
       "       (<Time object: scale='tai' format='isot' value=2028-01-02T15:50:24.000>, <Time object: scale='tai' format='isot' value=2028-01-03T15:50:24.000>, 'minor event'),\n",
       "       (<Time object: scale='tai' format='isot' value=2028-04-01T15:50:24.000>, <Time object: scale='tai' format='isot' value=2028-04-02T15:50:24.000>, 'minor event'),\n",
       "       (<Time object: scale='tai' format='isot' value=2028-04-07T15:50:24.000>, <Time object: scale='tai' format='isot' value=2028-04-08T15:50:24.000>, 'minor event'),\n",
       "       (<Time object: scale='tai' format='isot' value=2028-04-18T15:50:24.000>, <Time object: scale='tai' format='isot' value=2028-04-21T15:50:24.000>, 'intermediate event'),\n",
       "       (<Time object: scale='tai' format='isot' value=2028-06-14T15:50:24.000>, <Time object: scale='tai' format='isot' value=2028-06-21T15:50:24.000>, 'major event'),\n",
       "       (<Time object: scale='tai' format='isot' value=2028-08-16T15:50:24.000>, <Time object: scale='tai' format='isot' value=2028-08-17T15:50:24.000>, 'minor event'),\n",
       "       (<Time object: scale='tai' format='isot' value=2028-09-22T15:50:24.000>, <Time object: scale='tai' format='isot' value=2028-09-23T15:50:24.000>, 'minor event'),\n",
       "       (<Time object: scale='tai' format='isot' value=2028-12-16T15:50:24.000>, <Time object: scale='tai' format='isot' value=2028-12-19T15:50:24.000>, 'intermediate event'),\n",
       "       (<Time object: scale='tai' format='isot' value=2029-02-07T15:50:24.000>, <Time object: scale='tai' format='isot' value=2029-02-08T15:50:24.000>, 'minor event'),\n",
       "       (<Time object: scale='tai' format='isot' value=2029-02-17T15:50:24.000>, <Time object: scale='tai' format='isot' value=2029-02-18T15:50:24.000>, 'minor event'),\n",
       "       (<Time object: scale='tai' format='isot' value=2029-03-11T15:50:24.000>, <Time object: scale='tai' format='isot' value=2029-03-12T15:50:24.000>, 'minor event'),\n",
       "       (<Time object: scale='tai' format='isot' value=2029-04-20T15:50:24.000>, <Time object: scale='tai' format='isot' value=2029-04-21T15:50:24.000>, 'minor event'),\n",
       "       (<Time object: scale='tai' format='isot' value=2029-09-15T15:50:24.000>, <Time object: scale='tai' format='isot' value=2029-09-16T15:50:24.000>, 'minor event'),\n",
       "       (<Time object: scale='tai' format='isot' value=2029-10-25T15:50:24.000>, <Time object: scale='tai' format='isot' value=2029-10-26T15:50:24.000>, 'minor event'),\n",
       "       (<Time object: scale='tai' format='isot' value=2029-10-28T15:50:24.000>, <Time object: scale='tai' format='isot' value=2029-10-31T15:50:24.000>, 'intermediate event'),\n",
       "       (<Time object: scale='tai' format='isot' value=2029-11-11T15:50:24.000>, <Time object: scale='tai' format='isot' value=2029-11-12T15:50:24.000>, 'minor event'),\n",
       "       (<Time object: scale='tai' format='isot' value=2029-12-27T15:50:24.000>, <Time object: scale='tai' format='isot' value=2029-12-28T15:50:24.000>, 'minor event'),\n",
       "       (<Time object: scale='tai' format='isot' value=2030-02-08T15:50:24.000>, <Time object: scale='tai' format='isot' value=2030-02-09T15:50:24.000>, 'minor event'),\n",
       "       (<Time object: scale='tai' format='isot' value=2030-02-17T15:50:24.000>, <Time object: scale='tai' format='isot' value=2030-02-20T15:50:24.000>, 'intermediate event'),\n",
       "       (<Time object: scale='tai' format='isot' value=2030-04-27T15:50:24.000>, <Time object: scale='tai' format='isot' value=2030-04-28T15:50:24.000>, 'minor event'),\n",
       "       (<Time object: scale='tai' format='isot' value=2030-06-29T15:50:24.000>, <Time object: scale='tai' format='isot' value=2030-06-30T15:50:24.000>, 'minor event'),\n",
       "       (<Time object: scale='tai' format='isot' value=2030-08-12T15:50:24.000>, <Time object: scale='tai' format='isot' value=2030-08-15T15:50:24.000>, 'intermediate event'),\n",
       "       (<Time object: scale='tai' format='isot' value=2030-09-12T15:50:24.000>, <Time object: scale='tai' format='isot' value=2030-09-13T15:50:24.000>, 'minor event'),\n",
       "       (<Time object: scale='tai' format='isot' value=2030-10-07T15:50:24.000>, <Time object: scale='tai' format='isot' value=2030-10-14T15:50:24.000>, 'major event'),\n",
       "       (<Time object: scale='tai' format='isot' value=2030-11-22T15:50:24.000>, <Time object: scale='tai' format='isot' value=2030-11-23T15:50:24.000>, 'minor event'),\n",
       "       (<Time object: scale='tai' format='isot' value=2031-01-01T15:50:24.000>, <Time object: scale='tai' format='isot' value=2031-01-15T15:50:24.000>, 'catastrophic event'),\n",
       "       (<Time object: scale='tai' format='isot' value=2031-04-28T15:50:24.000>, <Time object: scale='tai' format='isot' value=2031-04-29T15:50:24.000>, 'minor event'),\n",
       "       (<Time object: scale='tai' format='isot' value=2031-05-21T15:50:24.000>, <Time object: scale='tai' format='isot' value=2031-05-22T15:50:24.000>, 'minor event'),\n",
       "       (<Time object: scale='tai' format='isot' value=2031-05-30T15:50:24.000>, <Time object: scale='tai' format='isot' value=2031-06-02T15:50:24.000>, 'intermediate event'),\n",
       "       (<Time object: scale='tai' format='isot' value=2031-06-14T15:50:24.000>, <Time object: scale='tai' format='isot' value=2031-06-17T15:50:24.000>, 'intermediate event'),\n",
       "       (<Time object: scale='tai' format='isot' value=2031-07-11T15:50:24.000>, <Time object: scale='tai' format='isot' value=2031-07-12T15:50:24.000>, 'minor event'),\n",
       "       (<Time object: scale='tai' format='isot' value=2031-10-09T15:50:24.000>, <Time object: scale='tai' format='isot' value=2031-10-10T15:50:24.000>, 'minor event'),\n",
       "       (<Time object: scale='tai' format='isot' value=2031-10-17T15:50:24.000>, <Time object: scale='tai' format='isot' value=2031-10-18T15:50:24.000>, 'minor event'),\n",
       "       (<Time object: scale='tai' format='isot' value=2032-02-18T15:50:24.000>, <Time object: scale='tai' format='isot' value=2032-02-19T15:50:24.000>, 'minor event'),\n",
       "       (<Time object: scale='tai' format='isot' value=2032-02-22T15:50:24.000>, <Time object: scale='tai' format='isot' value=2032-02-23T15:50:24.000>, 'minor event'),\n",
       "       (<Time object: scale='tai' format='isot' value=2032-06-12T15:50:24.000>, <Time object: scale='tai' format='isot' value=2032-06-13T15:50:24.000>, 'minor event'),\n",
       "       (<Time object: scale='tai' format='isot' value=2032-09-22T15:50:24.000>, <Time object: scale='tai' format='isot' value=2032-09-23T15:50:24.000>, 'minor event'),\n",
       "       (<Time object: scale='tai' format='isot' value=2032-10-03T15:50:24.000>, <Time object: scale='tai' format='isot' value=2032-10-06T15:50:24.000>, 'intermediate event'),\n",
       "       (<Time object: scale='tai' format='isot' value=2032-10-30T15:50:24.000>, <Time object: scale='tai' format='isot' value=2032-11-02T15:50:24.000>, 'intermediate event'),\n",
       "       (<Time object: scale='tai' format='isot' value=2032-11-24T15:50:24.000>, <Time object: scale='tai' format='isot' value=2032-11-25T15:50:24.000>, 'minor event'),\n",
       "       (<Time object: scale='tai' format='isot' value=2032-11-27T15:50:24.000>, <Time object: scale='tai' format='isot' value=2032-11-28T15:50:24.000>, 'minor event'),\n",
       "       (<Time object: scale='tai' format='isot' value=2032-12-06T15:50:24.000>, <Time object: scale='tai' format='isot' value=2032-12-07T15:50:24.000>, 'minor event'),\n",
       "       (<Time object: scale='tai' format='isot' value=2033-01-11T15:50:24.000>, <Time object: scale='tai' format='isot' value=2033-01-12T15:50:24.000>, 'minor event'),\n",
       "       (<Time object: scale='tai' format='isot' value=2033-03-04T15:50:24.000>, <Time object: scale='tai' format='isot' value=2033-03-05T15:50:24.000>, 'minor event'),\n",
       "       (<Time object: scale='tai' format='isot' value=2033-03-14T15:50:24.000>, <Time object: scale='tai' format='isot' value=2033-03-21T15:50:24.000>, 'major event'),\n",
       "       (<Time object: scale='tai' format='isot' value=2033-06-14T15:50:24.000>, <Time object: scale='tai' format='isot' value=2033-06-17T15:50:24.000>, 'intermediate event'),\n",
       "       (<Time object: scale='tai' format='isot' value=2033-07-03T15:50:24.000>, <Time object: scale='tai' format='isot' value=2033-07-04T15:50:24.000>, 'minor event'),\n",
       "       (<Time object: scale='tai' format='isot' value=2033-07-09T15:50:24.000>, <Time object: scale='tai' format='isot' value=2033-07-10T15:50:24.000>, 'minor event'),\n",
       "       (<Time object: scale='tai' format='isot' value=2033-07-16T15:50:24.000>, <Time object: scale='tai' format='isot' value=2033-07-17T15:50:24.000>, 'minor event'),\n",
       "       (<Time object: scale='tai' format='isot' value=2033-08-16T15:50:24.000>, <Time object: scale='tai' format='isot' value=2033-08-17T15:50:24.000>, 'minor event'),\n",
       "       (<Time object: scale='tai' format='isot' value=2033-10-15T15:50:24.000>, <Time object: scale='tai' format='isot' value=2033-10-16T15:50:24.000>, 'minor event'),\n",
       "       (<Time object: scale='tai' format='isot' value=2033-11-03T15:50:24.000>, <Time object: scale='tai' format='isot' value=2033-11-04T15:50:24.000>, 'minor event'),\n",
       "       (<Time object: scale='tai' format='isot' value=2033-11-07T15:50:24.000>, <Time object: scale='tai' format='isot' value=2033-11-10T15:50:24.000>, 'intermediate event'),\n",
       "       (<Time object: scale='tai' format='isot' value=2033-12-09T15:50:24.000>, <Time object: scale='tai' format='isot' value=2033-12-10T15:50:24.000>, 'minor event'),\n",
       "       (<Time object: scale='tai' format='isot' value=2034-01-18T15:50:24.000>, <Time object: scale='tai' format='isot' value=2034-01-19T15:50:24.000>, 'minor event'),\n",
       "       (<Time object: scale='tai' format='isot' value=2034-02-18T15:50:24.000>, <Time object: scale='tai' format='isot' value=2034-02-19T15:50:24.000>, 'minor event'),\n",
       "       (<Time object: scale='tai' format='isot' value=2034-04-08T15:50:24.000>, <Time object: scale='tai' format='isot' value=2034-04-11T15:50:24.000>, 'intermediate event'),\n",
       "       (<Time object: scale='tai' format='isot' value=2034-06-11T15:50:24.000>, <Time object: scale='tai' format='isot' value=2034-06-12T15:50:24.000>, 'minor event'),\n",
       "       (<Time object: scale='tai' format='isot' value=2034-07-04T15:50:24.000>, <Time object: scale='tai' format='isot' value=2034-07-05T15:50:24.000>, 'minor event'),\n",
       "       (<Time object: scale='tai' format='isot' value=2034-09-20T15:50:24.000>, <Time object: scale='tai' format='isot' value=2034-09-21T15:50:24.000>, 'minor event'),\n",
       "       (<Time object: scale='tai' format='isot' value=2034-10-08T15:50:24.000>, <Time object: scale='tai' format='isot' value=2034-10-09T15:50:24.000>, 'minor event'),\n",
       "       (<Time object: scale='tai' format='isot' value=2034-10-20T15:50:24.000>, <Time object: scale='tai' format='isot' value=2034-10-21T15:50:24.000>, 'minor event'),\n",
       "       (<Time object: scale='tai' format='isot' value=2034-11-17T15:50:24.000>, <Time object: scale='tai' format='isot' value=2034-11-18T15:50:24.000>, 'minor event'),\n",
       "       (<Time object: scale='tai' format='isot' value=2035-01-06T15:50:24.000>, <Time object: scale='tai' format='isot' value=2035-01-09T15:50:24.000>, 'intermediate event'),\n",
       "       (<Time object: scale='tai' format='isot' value=2035-02-03T15:50:24.000>, <Time object: scale='tai' format='isot' value=2035-02-04T15:50:24.000>, 'minor event'),\n",
       "       (<Time object: scale='tai' format='isot' value=2035-02-14T15:50:24.000>, <Time object: scale='tai' format='isot' value=2035-02-15T15:50:24.000>, 'minor event'),\n",
       "       (<Time object: scale='tai' format='isot' value=2035-04-24T15:50:24.000>, <Time object: scale='tai' format='isot' value=2035-04-25T15:50:24.000>, 'minor event'),\n",
       "       (<Time object: scale='tai' format='isot' value=2035-06-01T15:50:24.000>, <Time object: scale='tai' format='isot' value=2035-06-04T15:50:24.000>, 'intermediate event'),\n",
       "       (<Time object: scale='tai' format='isot' value=2035-06-08T15:50:24.000>, <Time object: scale='tai' format='isot' value=2035-06-09T15:50:24.000>, 'minor event'),\n",
       "       (<Time object: scale='tai' format='isot' value=2035-11-01T15:50:24.000>, <Time object: scale='tai' format='isot' value=2035-11-04T15:50:24.000>, 'intermediate event'),\n",
       "       (<Time object: scale='tai' format='isot' value=2035-11-19T15:50:24.000>, <Time object: scale='tai' format='isot' value=2035-11-20T15:50:24.000>, 'minor event'),\n",
       "       (<Time object: scale='tai' format='isot' value=2035-12-13T15:50:24.000>, <Time object: scale='tai' format='isot' value=2035-12-14T15:50:24.000>, 'minor event'),\n",
       "       (<Time object: scale='tai' format='isot' value=2036-01-11T15:50:24.000>, <Time object: scale='tai' format='isot' value=2036-01-12T15:50:24.000>, 'minor event'),\n",
       "       (<Time object: scale='tai' format='isot' value=2036-04-27T15:50:24.000>, <Time object: scale='tai' format='isot' value=2036-04-30T15:50:24.000>, 'intermediate event'),\n",
       "       (<Time object: scale='tai' format='isot' value=2036-08-07T15:50:24.000>, <Time object: scale='tai' format='isot' value=2036-08-10T15:50:24.000>, 'intermediate event'),\n",
       "       (<Time object: scale='tai' format='isot' value=2036-08-30T15:50:24.000>, <Time object: scale='tai' format='isot' value=2036-08-31T15:50:24.000>, 'minor event'),\n",
       "       (<Time object: scale='tai' format='isot' value=2036-09-17T15:50:24.000>, <Time object: scale='tai' format='isot' value=2036-09-18T15:50:24.000>, 'minor event'),\n",
       "       (<Time object: scale='tai' format='isot' value=2036-10-24T15:50:24.000>, <Time object: scale='tai' format='isot' value=2036-10-25T15:50:24.000>, 'minor event'),\n",
       "       (<Time object: scale='tai' format='isot' value=2037-01-18T15:50:24.000>, <Time object: scale='tai' format='isot' value=2037-01-19T15:50:24.000>, 'minor event'),\n",
       "       (<Time object: scale='tai' format='isot' value=2037-05-04T15:50:24.000>, <Time object: scale='tai' format='isot' value=2037-05-05T15:50:24.000>, 'minor event'),\n",
       "       (<Time object: scale='tai' format='isot' value=2037-09-01T15:50:24.000>, <Time object: scale='tai' format='isot' value=2037-09-04T15:50:24.000>, 'intermediate event'),\n",
       "       (<Time object: scale='tai' format='isot' value=2037-11-30T15:50:24.000>, <Time object: scale='tai' format='isot' value=2037-12-07T15:50:24.000>, 'major event'),\n",
       "       (<Time object: scale='tai' format='isot' value=2037-12-11T15:50:24.000>, <Time object: scale='tai' format='isot' value=2037-12-14T15:50:24.000>, 'intermediate event'),\n",
       "       (<Time object: scale='tai' format='isot' value=2038-02-13T15:50:24.000>, <Time object: scale='tai' format='isot' value=2038-02-16T15:50:24.000>, 'intermediate event'),\n",
       "       (<Time object: scale='tai' format='isot' value=2038-03-20T15:50:24.000>, <Time object: scale='tai' format='isot' value=2038-03-21T15:50:24.000>, 'minor event'),\n",
       "       (<Time object: scale='tai' format='isot' value=2038-07-15T15:50:24.000>, <Time object: scale='tai' format='isot' value=2038-07-16T15:50:24.000>, 'minor event'),\n",
       "       (<Time object: scale='tai' format='isot' value=2038-07-20T15:50:24.000>, <Time object: scale='tai' format='isot' value=2038-07-21T15:50:24.000>, 'minor event'),\n",
       "       (<Time object: scale='tai' format='isot' value=2038-08-04T15:50:24.000>, <Time object: scale='tai' format='isot' value=2038-08-11T15:50:24.000>, 'major event'),\n",
       "       (<Time object: scale='tai' format='isot' value=2038-08-24T15:50:24.000>, <Time object: scale='tai' format='isot' value=2038-08-25T15:50:24.000>, 'minor event'),\n",
       "       (<Time object: scale='tai' format='isot' value=2038-10-08T15:50:24.000>, <Time object: scale='tai' format='isot' value=2038-10-09T15:50:24.000>, 'minor event'),\n",
       "       (<Time object: scale='tai' format='isot' value=2038-10-20T15:50:24.000>, <Time object: scale='tai' format='isot' value=2038-10-21T15:50:24.000>, 'minor event'),\n",
       "       (<Time object: scale='tai' format='isot' value=2038-11-29T15:50:24.000>, <Time object: scale='tai' format='isot' value=2038-12-06T15:50:24.000>, 'major event'),\n",
       "       (<Time object: scale='tai' format='isot' value=2038-12-10T15:50:24.000>, <Time object: scale='tai' format='isot' value=2038-12-11T15:50:24.000>, 'minor event'),\n",
       "       (<Time object: scale='tai' format='isot' value=2039-04-24T15:50:24.000>, <Time object: scale='tai' format='isot' value=2039-04-25T15:50:24.000>, 'minor event'),\n",
       "       (<Time object: scale='tai' format='isot' value=2039-05-23T15:50:24.000>, <Time object: scale='tai' format='isot' value=2039-06-06T15:50:24.000>, 'catastrophic event'),\n",
       "       (<Time object: scale='tai' format='isot' value=2039-06-07T15:50:24.000>, <Time object: scale='tai' format='isot' value=2039-06-08T15:50:24.000>, 'minor event'),\n",
       "       (<Time object: scale='tai' format='isot' value=2039-07-17T15:50:24.000>, <Time object: scale='tai' format='isot' value=2039-07-20T15:50:24.000>, 'intermediate event'),\n",
       "       (<Time object: scale='tai' format='isot' value=2039-08-10T15:50:24.000>, <Time object: scale='tai' format='isot' value=2039-08-11T15:50:24.000>, 'minor event'),\n",
       "       (<Time object: scale='tai' format='isot' value=2039-09-10T15:50:24.000>, <Time object: scale='tai' format='isot' value=2039-09-11T15:50:24.000>, 'minor event'),\n",
       "       (<Time object: scale='tai' format='isot' value=2039-09-23T15:50:24.000>, <Time object: scale='tai' format='isot' value=2039-09-30T15:50:24.000>, 'major event'),\n",
       "       (<Time object: scale='tai' format='isot' value=2040-03-21T15:50:24.000>, <Time object: scale='tai' format='isot' value=2040-03-22T15:50:24.000>, 'minor event'),\n",
       "       (<Time object: scale='tai' format='isot' value=2040-05-26T15:50:24.000>, <Time object: scale='tai' format='isot' value=2040-05-27T15:50:24.000>, 'minor event'),\n",
       "       (<Time object: scale='tai' format='isot' value=2040-06-17T15:50:24.000>, <Time object: scale='tai' format='isot' value=2040-06-20T15:50:24.000>, 'intermediate event'),\n",
       "       (<Time object: scale='tai' format='isot' value=2040-08-28T15:50:24.000>, <Time object: scale='tai' format='isot' value=2040-08-31T15:50:24.000>, 'intermediate event'),\n",
       "       (<Time object: scale='tai' format='isot' value=2040-09-13T15:50:24.000>, <Time object: scale='tai' format='isot' value=2040-09-14T15:50:24.000>, 'minor event'),\n",
       "       (<Time object: scale='tai' format='isot' value=2041-07-24T15:50:24.000>, <Time object: scale='tai' format='isot' value=2041-07-25T15:50:24.000>, 'minor event'),\n",
       "       (<Time object: scale='tai' format='isot' value=2041-12-13T15:50:24.000>, <Time object: scale='tai' format='isot' value=2041-12-14T15:50:24.000>, 'minor event'),\n",
       "       (<Time object: scale='tai' format='isot' value=2041-12-18T15:50:24.000>, <Time object: scale='tai' format='isot' value=2041-12-19T15:50:24.000>, 'minor event'),\n",
       "       (<Time object: scale='tai' format='isot' value=2041-12-24T15:50:24.000>, <Time object: scale='tai' format='isot' value=2041-12-25T15:50:24.000>, 'minor event'),\n",
       "       (<Time object: scale='tai' format='isot' value=2042-01-10T15:50:24.000>, <Time object: scale='tai' format='isot' value=2042-01-13T15:50:24.000>, 'intermediate event'),\n",
       "       (<Time object: scale='tai' format='isot' value=2042-03-30T15:50:24.000>, <Time object: scale='tai' format='isot' value=2042-03-31T15:50:24.000>, 'minor event'),\n",
       "       (<Time object: scale='tai' format='isot' value=2042-04-07T15:50:24.000>, <Time object: scale='tai' format='isot' value=2042-04-08T15:50:24.000>, 'minor event'),\n",
       "       (<Time object: scale='tai' format='isot' value=2042-09-22T15:50:24.000>, <Time object: scale='tai' format='isot' value=2042-09-23T15:50:24.000>, 'minor event'),\n",
       "       (<Time object: scale='tai' format='isot' value=2042-12-27T15:50:24.000>, <Time object: scale='tai' format='isot' value=2042-12-28T15:50:24.000>, 'minor event'),\n",
       "       (<Time object: scale='tai' format='isot' value=2043-06-17T15:50:24.000>, <Time object: scale='tai' format='isot' value=2043-06-18T15:50:24.000>, 'minor event'),\n",
       "       (<Time object: scale='tai' format='isot' value=2043-07-09T15:50:24.000>, <Time object: scale='tai' format='isot' value=2043-07-12T15:50:24.000>, 'intermediate event'),\n",
       "       (<Time object: scale='tai' format='isot' value=2043-07-14T15:50:24.000>, <Time object: scale='tai' format='isot' value=2043-07-15T15:50:24.000>, 'minor event'),\n",
       "       (<Time object: scale='tai' format='isot' value=2043-08-16T15:50:24.000>, <Time object: scale='tai' format='isot' value=2043-08-19T15:50:24.000>, 'intermediate event'),\n",
       "       (<Time object: scale='tai' format='isot' value=2043-09-27T15:50:24.000>, <Time object: scale='tai' format='isot' value=2043-09-30T15:50:24.000>, 'intermediate event'),\n",
       "       (<Time object: scale='tai' format='isot' value=2043-10-16T15:50:24.000>, <Time object: scale='tai' format='isot' value=2043-10-19T15:50:24.000>, 'intermediate event'),\n",
       "       (<Time object: scale='tai' format='isot' value=2043-11-01T15:50:24.000>, <Time object: scale='tai' format='isot' value=2043-11-02T15:50:24.000>, 'minor event'),\n",
       "       (<Time object: scale='tai' format='isot' value=2043-12-27T15:50:24.000>, <Time object: scale='tai' format='isot' value=2043-12-28T15:50:24.000>, 'minor event'),\n",
       "       (<Time object: scale='tai' format='isot' value=2044-01-11T15:50:24.000>, <Time object: scale='tai' format='isot' value=2044-01-14T15:50:24.000>, 'intermediate event'),\n",
       "       (<Time object: scale='tai' format='isot' value=2044-01-20T15:50:24.000>, <Time object: scale='tai' format='isot' value=2044-01-23T15:50:24.000>, 'intermediate event'),\n",
       "       (<Time object: scale='tai' format='isot' value=2044-01-31T15:50:24.000>, <Time object: scale='tai' format='isot' value=2044-02-01T15:50:24.000>, 'minor event'),\n",
       "       (<Time object: scale='tai' format='isot' value=2044-02-09T15:50:24.000>, <Time object: scale='tai' format='isot' value=2044-02-16T15:50:24.000>, 'major event'),\n",
       "       (<Time object: scale='tai' format='isot' value=2044-03-10T15:50:24.000>, <Time object: scale='tai' format='isot' value=2044-03-17T15:50:24.000>, 'major event'),\n",
       "       (<Time object: scale='tai' format='isot' value=2044-05-02T15:50:24.000>, <Time object: scale='tai' format='isot' value=2044-05-03T15:50:24.000>, 'minor event'),\n",
       "       (<Time object: scale='tai' format='isot' value=2044-07-02T15:50:24.000>, <Time object: scale='tai' format='isot' value=2044-07-03T15:50:24.000>, 'minor event'),\n",
       "       (<Time object: scale='tai' format='isot' value=2044-08-02T15:50:24.000>, <Time object: scale='tai' format='isot' value=2044-08-03T15:50:24.000>, 'minor event'),\n",
       "       (<Time object: scale='tai' format='isot' value=2044-11-18T15:50:24.000>, <Time object: scale='tai' format='isot' value=2044-11-19T15:50:24.000>, 'minor event')],\n",
       "      dtype=[('start', 'O'), ('end', 'O'), ('activity', 'O')])"
      ]
     },
     "execution_count": 3,
     "metadata": {},
     "output_type": "execute_result"
    }
   ],
   "source": [
    "main_dt.downtime"
   ]
  },
  {
   "cell_type": "code",
   "execution_count": 4,
   "id": "f4ea3bdf-b978-4456-916f-bd107903ac06",
   "metadata": {},
   "outputs": [],
   "source": [
    "the_three = new_downtimes(mjd_start=mjd)"
   ]
  },
  {
   "cell_type": "code",
   "execution_count": 5,
   "id": "3974765b-ec44-407c-83d0-afc0c4cdcc61",
   "metadata": {},
   "outputs": [
    {
     "data": {
      "text/plain": [
       "array([(60796.95865975, 60797.43041402), (60800.07122296, 60800.11288963),\n",
       "       (60801.24879945, 60801.41829171), (60803.02129284, 60803.34281348),\n",
       "       (60804.13351142, 60804.42407575), (60807.21412386, 60807.25579053),\n",
       "       (60809.95274602, 60810.43539428), (60812.01941682, 60812.27896569),\n",
       "       (60814.1268892 , 60814.29642779), (60815.06525141, 60815.32517979),\n",
       "       (60816.071694  , 60816.26694297), (60816.98134784, 60817.05307011),\n",
       "       (60819.27602442, 60819.38153487), (60819.94985317, 60820.4390628 ),\n",
       "       (60821.13316232, 60821.32314782), (60821.94945611, 60822.43976153),\n",
       "       (60824.27746328, 60824.35904036), (60826.94957795, 60827.3750399 ),\n",
       "       (60828.1945137 , 60828.2536017 ), (60832.28095328, 60832.41383235),\n",
       "       (60833.66      , 60840.66      ), (60847.05155286, 60847.09321952),\n",
       "       (60849.12697627, 60849.44536096), (60851.29253525, 60851.33420192),\n",
       "       (60852.391337  , 60852.43300367), (60853.04218738, 60853.08385405),\n",
       "       (60854.38045711, 60854.42212378), (60856.03204571, 60856.34958348),\n",
       "       (60876.95723665, 60877.44462094), (60877.95757806, 60878.4443356 ),\n",
       "       (60879.96128493, 60880.44060266), (60881.95896262, 60882.44303935),\n",
       "       (60886.02467071, 60886.06633737), (60888.96142265, 60889.44019873),\n",
       "       (60900.10647887, 60900.14814554), (60901.97171298, 60902.42563051),\n",
       "       (60904.10396386, 60904.14563053), (60904.97488524, 60905.33159717),\n",
       "       (60911.99881613, 60912.20231376), (60912.96982311, 60913.42554508),\n",
       "       (60914.07719941, 60914.34749666), (60919.97227386, 60920.42013042),\n",
       "       (60925.26260595, 60925.30427261), (60931.36261426, 60931.40428092),\n",
       "       (60933.14994251, 60933.19160918), (60934.01750125, 60934.17275462),\n",
       "       (60937.97891001, 60938.404772  ), (60942.02776159, 60942.39656122),\n",
       "       (60943.06779999, 60943.17434961), (60943.98135608, 60944.39941513),\n",
       "       (60946.06264208, 60946.32768367), (60951.98489793, 60952.39194252),\n",
       "       (60958.13403004, 60958.17569671), (60959.16756068, 60959.26069548),\n",
       "       (60963.21765848, 60963.25932515), (60963.99087124, 60964.38186948),\n",
       "       (60968.31275971, 60968.35442637), (60971.0501161 , 60971.24439338),\n",
       "       (60973.1859753 , 60973.22764197), (60978.29149624, 60978.3331629 ),\n",
       "       (60978.99975081, 60979.37031667), (60980.0003932 , 60980.36962436),\n",
       "       (60982.66      , 60989.66      ), (60996.11757306, 60996.15923972),\n",
       "       (60997.18151182, 60997.22317849), (61000.23958378, 61000.28125044),\n",
       "       (61001.25647347, 61001.3357791 ), (61010.08532309, 61010.26264376),\n",
       "       (61011.02144664, 61011.35672561), (61017.02507553, 61017.35655983),\n",
       "       (61020.03365952, 61020.07532618), (61027.29139385, 61027.33306052),\n",
       "       (61028.09352702, 61028.34976664), (61030.2308235 , 61030.27249016),\n",
       "       (61040.26552435, 61040.30719102), (61041.04116033, 61041.33826461),\n",
       "       (61042.06392446, 61042.3245506 ), (61048.12388303, 61048.1655497 ),\n",
       "       (61055.28405631, 61055.32572298), (61061.20048157, 61061.37353226),\n",
       "       (61068.03452145, 61068.25200887), (61069.66      , 61070.66      ),\n",
       "       (61074.66      , 61077.66      ), (61085.20680683, 61085.31649093),\n",
       "       (61094.0388808 , 61094.13819945), (61095.31183852, 61095.35350518),\n",
       "       (61100.16526604, 61100.20876736), (61101.66      , 61108.66      ),\n",
       "       (61113.02593382, 61113.33031989), (61116.00672953, 61116.29211303),\n",
       "       (61117.04786062, 61117.24981356), (61123.99459841, 61124.04624709),\n",
       "       (61132.66      , 61133.66      ), (61137.66      , 61138.66      ),\n",
       "       (61152.27033333, 61152.31199999), (61154.66      , 61155.66      ),\n",
       "       (61195.66      , 61196.66      ), (61198.66      , 61205.66      ),\n",
       "       (61257.66      , 61258.66      ), (61305.66      , 61312.66      ),\n",
       "       (61332.66      , 61333.66      ), (61347.66      , 61354.66      ),\n",
       "       (61399.66      , 61402.66      ), (61456.66      , 61457.66      ),\n",
       "       (61563.66      , 61577.66      ), (61604.66      , 61605.66      ),\n",
       "       (61617.66      , 61618.66      ), (61627.66      , 61628.66      ),\n",
       "       (61823.66      , 61824.66      ), (61896.66      , 61899.66      ),\n",
       "       (61900.66      , 61901.66      ), (61928.66      , 61935.66      ),\n",
       "       (61937.66      , 61938.66      ), (61991.66      , 61992.66      ),\n",
       "       (62028.66      , 62029.66      ), (62041.66      , 62042.66      ),\n",
       "       (62077.66      , 62084.66      ), (62095.66      , 62098.66      ),\n",
       "       (62113.66      , 62116.66      ), (62137.66      , 62138.66      ),\n",
       "       (62227.66      , 62228.66      ), (62233.66      , 62234.66      ),\n",
       "       (62244.66      , 62247.66      ), (62293.66      , 62308.66      ),\n",
       "       (62364.66      , 62365.66      ), (62401.66      , 62402.66      ),\n",
       "       (62486.66      , 62489.66      ), (62539.66      , 62540.66      ),\n",
       "       (62549.66      , 62550.66      ), (62571.66      , 62572.66      ),\n",
       "       (62611.66      , 62612.66      ), (62658.66      , 62665.66      ),\n",
       "       (62759.66      , 62760.66      ), (62799.66      , 62800.66      ),\n",
       "       (62802.66      , 62805.66      ), (62807.66      , 62814.66      ),\n",
       "       (62816.66      , 62817.66      ), (62862.66      , 62863.66      ),\n",
       "       (62905.66      , 62906.66      ), (62914.66      , 62917.66      ),\n",
       "       (62983.66      , 62984.66      ), (63023.66      , 63037.66      ),\n",
       "       (63046.66      , 63047.66      ), (63090.66      , 63093.66      ),\n",
       "       (63121.66      , 63122.66      ), (63146.66      , 63153.66      ),\n",
       "       (63192.66      , 63193.66      ), (63232.66      , 63246.66      ),\n",
       "       (63349.66      , 63350.66      ), (63372.66      , 63373.66      ),\n",
       "       (63381.66      , 63384.66      ), (63388.66      , 63395.66      ),\n",
       "       (63396.66      , 63399.66      ), (63423.66      , 63424.66      ),\n",
       "       (63513.66      , 63514.66      ), (63521.66      , 63522.66      ),\n",
       "       (63537.66      , 63544.66      ), (63645.66      , 63646.66      ),\n",
       "       (63649.66      , 63650.66      ), (63753.66      , 63767.66      ),\n",
       "       (63862.66      , 63863.66      ), (63873.66      , 63876.66      ),\n",
       "       (63900.66      , 63903.66      ), (63925.66      , 63926.66      ),\n",
       "       (63928.66      , 63929.66      ), (63937.66      , 63938.66      ),\n",
       "       (63973.66      , 63974.66      ), (64025.66      , 64026.66      ),\n",
       "       (64035.66      , 64042.66      ), (64118.66      , 64125.66      ),\n",
       "       (64127.66      , 64130.66      ), (64146.66      , 64147.66      ),\n",
       "       (64152.66      , 64153.66      ), (64159.66      , 64160.66      ),\n",
       "       (64190.66      , 64191.66      ), (64250.66      , 64251.66      ),\n",
       "       (64267.66      , 64276.66      ), (64305.66      , 64306.66      ),\n",
       "       (64345.66      , 64346.66      ), (64376.66      , 64377.66      ),\n",
       "       (64425.66      , 64428.66      ), (64483.66      , 64497.66      ),\n",
       "       (64512.66      , 64513.66      ), (64590.66      , 64591.66      ),\n",
       "       (64608.66      , 64609.66      ), (64620.66      , 64621.66      ),\n",
       "       (64648.66      , 64649.66      ), (64698.66      , 64701.66      ),\n",
       "       (64726.66      , 64727.66      ), (64737.66      , 64738.66      ),\n",
       "       (64806.66      , 64807.66      ), (64844.66      , 64847.66      ),\n",
       "       (64848.66      , 64855.66      ), (64997.66      , 65004.66      ),\n",
       "       (65015.66      , 65016.66      ), (65039.66      , 65040.66      ),\n",
       "       (65068.66      , 65069.66      ), (65175.66      , 65178.66      ),\n",
       "       (65213.66      , 65227.66      ), (65277.66      , 65280.66      ),\n",
       "       (65300.66      , 65301.66      ), (65318.66      , 65319.66      ),\n",
       "       (65355.66      , 65356.66      ), (65441.66      , 65442.66      ),\n",
       "       (65547.66      , 65548.66      ), (65578.66      , 65585.66      ),\n",
       "       (65667.66      , 65670.66      ), (65727.66      , 65734.66      ),\n",
       "       (65757.66      , 65764.66      ), (65768.66      , 65771.66      ),\n",
       "       (65832.66      , 65835.66      ), (65867.66      , 65868.66      ),\n",
       "       (65943.66      , 65957.66      ), (65984.66      , 65985.66      ),\n",
       "       (65989.66      , 65990.66      ), (66004.66      , 66011.66      ),\n",
       "       (66024.66      , 66025.66      ), (66069.66      , 66070.66      ),\n",
       "       (66081.66      , 66082.66      ), (66121.66      , 66128.66      ),\n",
       "       (66132.66      , 66133.66      ), (66267.66      , 66268.66      ),\n",
       "       (66296.66      , 66315.66      ), (66351.66      , 66354.66      ),\n",
       "       (66375.66      , 66376.66      ), (66406.66      , 66407.66      ),\n",
       "       (66419.66      , 66426.66      ), (66457.66      , 66464.66      ),\n",
       "       (66599.66      , 66600.66      ), (66665.66      , 66666.66      ),\n",
       "       (66673.66      , 66687.66      ), (66687.66      , 66690.66      ),\n",
       "       (66759.66      , 66762.66      ), (66775.66      , 66776.66      ),\n",
       "       (67038.66      , 67045.66      ), (67089.66      , 67090.66      ),\n",
       "       (67187.66      , 67194.66      ), (67231.66      , 67232.66      ),\n",
       "       (67236.66      , 67237.66      ), (67242.66      , 67243.66      ),\n",
       "       (67259.66      , 67262.66      ), (67338.66      , 67339.66      ),\n",
       "       (67346.66      , 67347.66      ), (67403.66      , 67417.66      ),\n",
       "       (67514.66      , 67515.66      ), (67610.66      , 67611.66      ),\n",
       "       (67768.66      , 67775.66      ), (67782.66      , 67783.66      ),\n",
       "       (67804.66      , 67807.66      ), (67809.66      , 67810.66      ),\n",
       "       (67842.66      , 67845.66      ), (67884.66      , 67887.66      ),\n",
       "       (67903.66      , 67906.66      ), (67917.66      , 67924.66      ),\n",
       "       (67975.66      , 67976.66      ), (67990.66      , 67993.66      ),\n",
       "       (67999.66      , 68002.66      ), (68010.66      , 68011.66      ),\n",
       "       (68019.66      , 68026.66      ), (68049.66      , 68056.66      ),\n",
       "       (68102.66      , 68103.66      ), (68163.66      , 68164.66      ),\n",
       "       (68194.66      , 68195.66      ), (68302.66      , 68303.66      )],\n",
       "      dtype=[('start', '<f8'), ('end', '<f8')])"
      ]
     },
     "execution_count": 5,
     "metadata": {},
     "output_type": "execute_result"
    }
   ],
   "source": [
    "the_three"
   ]
  },
  {
   "cell_type": "code",
   "execution_count": 6,
   "id": "c2770b64-24fb-4d3f-8d1b-f6626dec7e1f",
   "metadata": {},
   "outputs": [],
   "source": [
    "the_main = [(t[0].mjd, t[1].mjd) for t in main_dt.downtime]"
   ]
  },
  {
   "cell_type": "code",
   "execution_count": 7,
   "id": "67ef786d-d08e-4bc9-a891-32ee90dc05ea",
   "metadata": {},
   "outputs": [
    {
     "data": {
      "text/plain": [
       "(273, 264)"
      ]
     },
     "execution_count": 7,
     "metadata": {},
     "output_type": "execute_result"
    }
   ],
   "source": [
    "len(the_main), len(the_three)"
   ]
  },
  {
   "cell_type": "code",
   "execution_count": 8,
   "id": "eb07850a-bec8-4bcc-bef9-ade690a55ff1",
   "metadata": {},
   "outputs": [],
   "source": [
    "ack = 0\n",
    "for t in the_main:\n",
    "    ack += t[1]-t[0]"
   ]
  },
  {
   "cell_type": "code",
   "execution_count": 9,
   "id": "21d2920b-ab2c-4dc4-b56a-2465a9bd8c6a",
   "metadata": {},
   "outputs": [
    {
     "data": {
      "text/plain": [
       "340.65602547631715"
      ]
     },
     "execution_count": 9,
     "metadata": {},
     "output_type": "execute_result"
    }
   ],
   "source": [
    "ack"
   ]
  },
  {
   "cell_type": "code",
   "execution_count": 10,
   "id": "ebaf4c07-614f-41de-94ef-c0a849ab3421",
   "metadata": {},
   "outputs": [],
   "source": [
    "ack = 0\n",
    "for t in the_three:\n",
    "    ack += t[1]-t[0]"
   ]
  },
  {
   "cell_type": "code",
   "execution_count": 11,
   "id": "abe66633-280c-4a9e-911d-e4553edb1e61",
   "metadata": {},
   "outputs": [
    {
     "data": {
      "text/plain": [
       "596.90314513474"
      ]
     },
     "execution_count": 11,
     "metadata": {},
     "output_type": "execute_result"
    }
   ],
   "source": [
    "ack"
   ]
  },
  {
   "cell_type": "code",
   "execution_count": 12,
   "id": "d2336611-ba73-42ef-a85d-540ccd59116a",
   "metadata": {},
   "outputs": [
    {
     "name": "stdout",
     "output_type": "stream",
     "text": [
      "51.46634210392949 340.65602547631715\n"
     ]
    },
    {
     "data": {
      "text/plain": [
       "Text(0, 0.5, 'Downtime length (days)')"
      ]
     },
     "execution_count": 12,
     "metadata": {},
     "output_type": "execute_result"
    },
    {
     "data": {
      "image/png": "[encoded data removed]",
      "text/plain": [
       "<Figure size 640x480 with 1 Axes>"
      ]
     },
     "metadata": {},
     "output_type": "display_data"
    }
   ],
   "source": [
    "deltas = np.array([t[1]-t[0] for t in the_main])\n",
    "t_0 = np.array([t[0] for t in the_main])-mjd\n",
    "plt.plot(t_0, deltas, 'ko')\n",
    "y1 = np.where(t_0 < 366)[0]\n",
    "\n",
    "print(np.sum(deltas[y1]), np.sum(deltas))\n",
    "plt.title('main')\n",
    "plt.xlabel('night')\n",
    "plt.ylabel('Downtime length (days)')"
   ]
  },
  {
   "cell_type": "code",
   "execution_count": 13,
   "id": "15e07fe6-f327-4a25-8731-37fd276ffb26",
   "metadata": {},
   "outputs": [
    {
     "name": "stdout",
     "output_type": "stream",
     "text": [
      "45.90314513474004 596.90314513474\n"
     ]
    },
    {
     "data": {
      "text/plain": [
       "Text(0, 0.5, 'Downtime length (days)')"
      ]
     },
     "execution_count": 13,
     "metadata": {},
     "output_type": "execute_result"
    },
    {
     "data": {
      "image/png": "[encoded data removed]",
      "text/plain": [
       "<Figure size 640x480 with 1 Axes>"
      ]
     },
     "metadata": {},
     "output_type": "display_data"
    }
   ],
   "source": [
    "deltas = np.array([t[1]-t[0] for t in the_three])\n",
    "t_0 = np.array([t[0] for t in the_three])-mjd\n",
    "plt.plot(t_0, deltas, 'ko')\n",
    "y1 = np.where(t_0 < 366)[0]\n",
    "\n",
    "print(np.sum(deltas[y1]), np.sum(deltas))\n",
    "plt.title('v3.5')\n",
    "plt.xlabel('night')\n",
    "plt.ylabel('Downtime length (days)')"
   ]
  },
  {
   "cell_type": "code",
   "execution_count": null,
   "id": "9e30c2d4-64a8-489a-91f4-64c08430010a",
   "metadata": {},
   "outputs": [],
   "source": []
  }
 ],
 "metadata": {
  "kernelspec": {
   "display_name": "Python 3 (ipykernel)",
   "language": "python",
   "name": "python3"
  },
  "language_info": {
   "codemirror_mode": {
    "name": "ipython",
    "version": 3
   },
   "file_extension": ".py",
   "mimetype": "text/x-python",
   "name": "python",
   "nbconvert_exporter": "python",
   "pygments_lexer": "ipython3",
   "version": "3.11.8"
  }
 },
 "nbformat": 4,
 "nbformat_minor": 5
}
